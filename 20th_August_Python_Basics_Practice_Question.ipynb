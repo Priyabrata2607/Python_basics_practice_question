{
 "cells": [
  {
   "cell_type": "markdown",
   "id": "d6d85bf5",
   "metadata": {},
   "source": [
    "# String Based Assignment Problem"
   ]
  },
  {
   "cell_type": "markdown",
   "id": "f57b67e7",
   "metadata": {},
   "source": [
    "1. Write a program to reverse a string."
   ]
  },
  {
   "cell_type": "code",
   "execution_count": 3,
   "id": "1e92dd98",
   "metadata": {},
   "outputs": [
    {
     "name": "stdout",
     "output_type": "stream",
     "text": [
      "Enter a string: Hello, World\n",
      "The reversed string is dlroW ,olleH\n"
     ]
    }
   ],
   "source": [
    "string=str(input('Enter a string: '))\n",
    "rev_string=string[::-1]\n",
    "print('The reversed string is',rev_string)"
   ]
  },
  {
   "cell_type": "markdown",
   "id": "60dad607",
   "metadata": {},
   "source": [
    "2. Check if a string is a palindrome."
   ]
  },
  {
   "cell_type": "code",
   "execution_count": 4,
   "id": "a9517e26",
   "metadata": {},
   "outputs": [
    {
     "name": "stdout",
     "output_type": "stream",
     "text": [
      "Enter a String: liril\n",
      "liril is palindrome\n"
     ]
    }
   ],
   "source": [
    "string=str(input('Enter a String: '))\n",
    "rev_string=string[::-1]\n",
    "if(string==rev_string):\n",
    "    print(string,'is palindrome')\n",
    "else:\n",
    "    print(string,'is not palindrome')"
   ]
  },
  {
   "cell_type": "markdown",
   "id": "15201682",
   "metadata": {},
   "source": [
    "3. Convert a string to uppercase."
   ]
  },
  {
   "cell_type": "code",
   "execution_count": 5,
   "id": "088a3bda",
   "metadata": {},
   "outputs": [
    {
     "name": "stdout",
     "output_type": "stream",
     "text": [
      "Enter a string: Hello,World\n",
      "HELLO,WORLD is converted to uppercase\n"
     ]
    }
   ],
   "source": [
    "string=str(input('Enter a string: '))\n",
    "up_string=string.upper()\n",
    "print(up_string,'is converted to uppercase')"
   ]
  },
  {
   "cell_type": "markdown",
   "id": "fa21e773",
   "metadata": {},
   "source": [
    "4. Convert a string to lowercase."
   ]
  },
  {
   "cell_type": "code",
   "execution_count": 6,
   "id": "8592e3eb",
   "metadata": {},
   "outputs": [
    {
     "name": "stdout",
     "output_type": "stream",
     "text": [
      "Enter a string: I AM a BOY\n",
      "i am a boy is converted to lowercase\n"
     ]
    }
   ],
   "source": [
    "string=str(input('Enter a string: '))\n",
    "lo_string=string.lower()\n",
    "print(lo_string,'is converted to lowercase')"
   ]
  },
  {
   "cell_type": "markdown",
   "id": "b6a1c838",
   "metadata": {},
   "source": [
    "5. Count the number of vowels in a string."
   ]
  },
  {
   "cell_type": "code",
   "execution_count": 7,
   "id": "4422d515",
   "metadata": {},
   "outputs": [
    {
     "name": "stdout",
     "output_type": "stream",
     "text": [
      "Enter a string: I am a boy\n",
      "The number of vowels in i am a boy is 4\n"
     ]
    }
   ],
   "source": [
    "string=str.lower(input('Enter a string: '))\n",
    "count=0\n",
    "for i in string:\n",
    "    if(i=='a' or i=='e' or i=='i' or i=='o' or i=='u'):\n",
    "        count+=1\n",
    "print('The number of vowels in',string,'is',count)"
   ]
  },
  {
   "cell_type": "markdown",
   "id": "be89bdce",
   "metadata": {},
   "source": [
    "6. Count the number of consonants in a string."
   ]
  },
  {
   "cell_type": "code",
   "execution_count": 10,
   "id": "ae000a8c",
   "metadata": {},
   "outputs": [
    {
     "name": "stdout",
     "output_type": "stream",
     "text": [
      "Enter a string: Priyabrata\n",
      "The number of consonants in priyabrata is 6\n"
     ]
    }
   ],
   "source": [
    "string=str.lower(input('Enter a string: '))\n",
    "count=0\n",
    "consonant='bcdfghjklmnpqrstvwxyz'\n",
    "for i in string:\n",
    "    if i in consonant:\n",
    "        count+=1\n",
    "print('The number of consonants in',string,'is',count)\n"
   ]
  },
  {
   "cell_type": "markdown",
   "id": "1cfa954d",
   "metadata": {},
   "source": [
    "7. Remove all whitespaces from a string."
   ]
  },
  {
   "cell_type": "code",
   "execution_count": 14,
   "id": "ce1f9bdc",
   "metadata": {},
   "outputs": [
    {
     "name": "stdout",
     "output_type": "stream",
     "text": [
      "Enter a string:      Hello    World\n",
      "After removing spaces the new string is HelloWorld\n"
     ]
    }
   ],
   "source": [
    "string=str(input('Enter a string: '))\n",
    "new_string=string.replace(\" \",\"\")\n",
    "print('After removing spaces the new string is',new_string)"
   ]
  },
  {
   "cell_type": "markdown",
   "id": "b8fc418e",
   "metadata": {},
   "source": [
    "8. Find the length of a string without using the `len()` function."
   ]
  },
  {
   "cell_type": "code",
   "execution_count": 15,
   "id": "6d252ed6",
   "metadata": {},
   "outputs": [
    {
     "name": "stdout",
     "output_type": "stream",
     "text": [
      "Enter a string: Hello world\n",
      "The length of a string is 11\n"
     ]
    }
   ],
   "source": [
    "string=str(input('Enter a string: '))\n",
    "count=0\n",
    "for i in string:\n",
    "    count+=1\n",
    "print('The length of a string is',count)"
   ]
  },
  {
   "cell_type": "markdown",
   "id": "a8ac6169",
   "metadata": {},
   "source": [
    "9.Check if a string contains a specific word."
   ]
  },
  {
   "cell_type": "code",
   "execution_count": 18,
   "id": "8c249cd6",
   "metadata": {},
   "outputs": [
    {
     "name": "stdout",
     "output_type": "stream",
     "text": [
      "Enter a string: I am a boy\n",
      "Enter a Word: boy\n",
      "I am a boy contains boy\n"
     ]
    }
   ],
   "source": [
    "string=str(input('Enter a string: '))\n",
    "word=str(input('Enter a Word: '))\n",
    "if word in string:\n",
    "    print(string,'contains',word)\n",
    "else:\n",
    "    print(string,'doesnot contain',word)"
   ]
  },
  {
   "cell_type": "markdown",
   "id": "67f77de5",
   "metadata": {},
   "source": [
    "10. Replace a word in a string with another word."
   ]
  },
  {
   "cell_type": "code",
   "execution_count": 19,
   "id": "62fb4107",
   "metadata": {},
   "outputs": [
    {
     "name": "stdout",
     "output_type": "stream",
     "text": [
      "Enter a string: I am a boy\n",
      "Enter the old word: boy\n",
      "Enter the new word: girl\n",
      "Replaced String:  I am a girl\n"
     ]
    }
   ],
   "source": [
    "string=str(input('Enter a string: '))\n",
    "old_word=str(input('Enter the old word: '))\n",
    "new_word=str(input('Enter the new word: '))\n",
    "replaced_string=string.replace(old_word,new_word)\n",
    "print('Replaced String: ',replaced_string)"
   ]
  },
  {
   "cell_type": "markdown",
   "id": "753da224",
   "metadata": {},
   "source": [
    "11. Count the occurrences of a word in a string."
   ]
  },
  {
   "cell_type": "code",
   "execution_count": 24,
   "id": "8eff6302",
   "metadata": {},
   "outputs": [
    {
     "name": "stdout",
     "output_type": "stream",
     "text": [
      "Enter a string: This example is a perfect example of getting new things.\n",
      "Enter the word: example\n",
      "the number occrrences of example is 2\n"
     ]
    }
   ],
   "source": [
    "string=str(input('Enter a string: '))\n",
    "target_word=str(input('Enter the word: '))\n",
    "count=0\n",
    "words=string.split()\n",
    "for word in words:\n",
    "    if target_word==word:\n",
    "        count+=1\n",
    "print('the number occrrences of',target_word,'is',count)"
   ]
  },
  {
   "cell_type": "markdown",
   "id": "127dffbf",
   "metadata": {},
   "source": [
    "12. Find the first occurrence of a word in a string."
   ]
  },
  {
   "cell_type": "code",
   "execution_count": 68,
   "id": "3bd055e9",
   "metadata": {},
   "outputs": [
    {
     "name": "stdout",
     "output_type": "stream",
     "text": [
      "Enter a string: I am gonna catch the train at train station\n",
      "Enter a word:train\n",
      "The first occurance of train in I am gonna catch the train at train station is 21\n"
     ]
    }
   ],
   "source": [
    "string=input('Enter a string: ')\n",
    "word=input('Enter a word:')\n",
    "index=string.find(word)\n",
    "if index==-1:\n",
    "    print(f'The word {word} is not in {string}')\n",
    "else:\n",
    "    print(f'The first occurance of {word} in {string} is {index}')"
   ]
  },
  {
   "cell_type": "markdown",
   "id": "702c85ef",
   "metadata": {},
   "source": [
    "13. Find the last occurrence of a word in a string."
   ]
  },
  {
   "cell_type": "code",
   "execution_count": 69,
   "id": "26576133",
   "metadata": {},
   "outputs": [
    {
     "name": "stdout",
     "output_type": "stream",
     "text": [
      "Enter a string: That is the last train which is gonna come to train station\n",
      "Enter a word:train\n",
      "The last occurance of train in That is the last train which is gonna come to train station is 46\n"
     ]
    }
   ],
   "source": [
    "string=input('Enter a string: ')\n",
    "word=input('Enter a word:')\n",
    "index=string.rfind(word)\n",
    "if index==-1:\n",
    "    print(f'The word {word} is not in {string}')\n",
    "else:\n",
    "    print(f'The last occurance of {word} in {string} is {index}')"
   ]
  },
  {
   "cell_type": "markdown",
   "id": "8c30e401",
   "metadata": {},
   "source": [
    "14. Split a string into a list of words."
   ]
  },
  {
   "cell_type": "code",
   "execution_count": 3,
   "id": "4c5cf890",
   "metadata": {},
   "outputs": [
    {
     "name": "stdout",
     "output_type": "stream",
     "text": [
      "Enter a string: This is a tree\n",
      "The splitted string is: ['This', 'is', 'a', 'tree']\n"
     ]
    }
   ],
   "source": [
    "string=input('Enter a string: ')\n",
    "lst=string.split()\n",
    "print('The splitted string is:',lst)"
   ]
  },
  {
   "cell_type": "markdown",
   "id": "7f1e2c4a",
   "metadata": {},
   "source": [
    "15. Join a list of words into a string."
   ]
  },
  {
   "cell_type": "code",
   "execution_count": 10,
   "id": "e8438db5",
   "metadata": {},
   "outputs": [
    {
     "name": "stdout",
     "output_type": "stream",
     "text": [
      "Enter the number of element to be added to the list:4\n",
      "I\n",
      "am\n",
      "a\n",
      "boy\n",
      "The original list is: ['I', 'am', 'a', 'boy']\n",
      "The joined string from a list is: I am a boy\n"
     ]
    }
   ],
   "source": [
    "lst=[]\n",
    "num=int(input('Enter the number of element to be added to the list:'))\n",
    "for i in range(0,num):\n",
    "    ele=input()\n",
    "    lst.append(ele)\n",
    "print('The original list is:',lst)\n",
    "string=' '.join(lst)\n",
    "print('The joined string from a list is:',string)"
   ]
  },
  {
   "cell_type": "markdown",
   "id": "2ddd45df",
   "metadata": {},
   "source": [
    "16. Convert a string where words are separated by spaces to one where words\n",
    "are separated by underscores."
   ]
  },
  {
   "cell_type": "code",
   "execution_count": 12,
   "id": "926de81e",
   "metadata": {},
   "outputs": [
    {
     "name": "stdout",
     "output_type": "stream",
     "text": [
      "Enter a string: I am a boy\n",
      "The converted string is: I_am_a_boy\n"
     ]
    }
   ],
   "source": [
    "string=input('Enter a string: ')\n",
    "string2=string.replace(' ','_')\n",
    "print('The converted string is:',string2)"
   ]
  },
  {
   "cell_type": "markdown",
   "id": "3a45165e",
   "metadata": {},
   "source": [
    "17. Check if a string starts with a specific word or phrase."
   ]
  },
  {
   "cell_type": "code",
   "execution_count": 3,
   "id": "f5634184",
   "metadata": {},
   "outputs": [
    {
     "name": "stdout",
     "output_type": "stream",
     "text": [
      "Enter a string:Hello World\n",
      "Enter a word:Hello\n",
      "Hello World starts with Hello\n"
     ]
    }
   ],
   "source": [
    "string=input('Enter a string:')\n",
    "first_letter=input('Enter a word:')\n",
    "res=string.startswith(first_letter)\n",
    "if res==True:\n",
    "    print(f'{string} starts with {first_letter}')\n",
    "else:\n",
    "    print(f'{string} does not start with {first_letter}')"
   ]
  },
  {
   "cell_type": "markdown",
   "id": "29b7eb7d",
   "metadata": {},
   "source": [
    "18.Check if a string ends with a specific word or phrase."
   ]
  },
  {
   "cell_type": "code",
   "execution_count": 5,
   "id": "aa8ca41b",
   "metadata": {},
   "outputs": [
    {
     "name": "stdout",
     "output_type": "stream",
     "text": [
      "Enter a string:Priyabrata Sahoo\n",
      "Enter a word:Sahoo\n",
      "Priyabrata Sahoo ends with Sahoo\n"
     ]
    }
   ],
   "source": [
    "string=input('Enter a string:')\n",
    "first_letter=input('Enter a word:')\n",
    "res=string.endswith(first_letter)\n",
    "if res==True:\n",
    "    print(f'{string} ends with {first_letter}')\n",
    "else:\n",
    "    print(f'{string} does not end with {first_letter}')"
   ]
  },
  {
   "cell_type": "markdown",
   "id": "718f4819",
   "metadata": {},
   "source": [
    "19. Convert a string to title case (e.g., \"hello world\" to \"Hello World\")."
   ]
  },
  {
   "cell_type": "code",
   "execution_count": 15,
   "id": "1584db05",
   "metadata": {},
   "outputs": [
    {
     "name": "stdout",
     "output_type": "stream",
     "text": [
      "Enter a string:hello world\n",
      "Hello World\n"
     ]
    }
   ],
   "source": [
    "string1=input('Enter a string:')\n",
    "string2=string1.title()\n",
    "print(string2)"
   ]
  },
  {
   "cell_type": "markdown",
   "id": "3d15882f",
   "metadata": {},
   "source": [
    "20. Find the longest word in a string."
   ]
  },
  {
   "cell_type": "code",
   "execution_count": 74,
   "id": "80f67c8b",
   "metadata": {},
   "outputs": [
    {
     "name": "stdout",
     "output_type": "stream",
     "text": [
      "Enter a String: This is an example sentence\n",
      "The longest word is sentence\n"
     ]
    }
   ],
   "source": [
    "string=input('Enter a String: ')\n",
    "words=string.split()\n",
    "long_word=''\n",
    "length=0\n",
    "\n",
    "for w in words:\n",
    "    if length<len(w):\n",
    "        length=len(w)\n",
    "        long_word=w\n",
    "print('The longest word is',long_word)"
   ]
  },
  {
   "cell_type": "markdown",
   "id": "a41adbbb",
   "metadata": {},
   "source": [
    "21. Find the shortest word in a string."
   ]
  },
  {
   "cell_type": "code",
   "execution_count": 76,
   "id": "82cfc733",
   "metadata": {},
   "outputs": [
    {
     "name": "stdout",
     "output_type": "stream",
     "text": [
      "Enter a string: String based Questions and Answers\n",
      "The shortest word is: and\n"
     ]
    }
   ],
   "source": [
    "string=input('Enter a string: ')\n",
    "words=string.split()\n",
    "short_word=''\n",
    "length=float('inf')\n",
    "\n",
    "for word in words:\n",
    "    if length>len(word):\n",
    "        length=len(word)\n",
    "        short_word=word\n",
    "print('The shortest word is:',short_word)"
   ]
  },
  {
   "cell_type": "markdown",
   "id": "89315691",
   "metadata": {},
   "source": [
    "22. Reverse the order of words in a string."
   ]
  },
  {
   "cell_type": "code",
   "execution_count": 9,
   "id": "c3ee3848",
   "metadata": {},
   "outputs": [
    {
     "name": "stdout",
     "output_type": "stream",
     "text": [
      "Enter a String:This is Pw Skills\n",
      "The original String is: This is Pw Skills\n",
      "Reversed order of words in a string: Skills Pw is This\n"
     ]
    }
   ],
   "source": [
    "string=input('Enter a String:')\n",
    "print('The original String is:',string)\n",
    "lst=string.split()\n",
    "lst=lst[::-1]\n",
    "new_string=' '\n",
    "rev_order_string=new_string.join(lst)\n",
    "print('Reversed order of words in a string:',rev_order_string)"
   ]
  },
  {
   "cell_type": "markdown",
   "id": "f07b56d5",
   "metadata": {},
   "source": [
    "23.Check if a string is alphanumeric."
   ]
  },
  {
   "cell_type": "code",
   "execution_count": 1,
   "id": "edd132e9",
   "metadata": {},
   "outputs": [
    {
     "name": "stdout",
     "output_type": "stream",
     "text": [
      "Enter a string:Hello 123\n",
      "String is not alphanumeric\n"
     ]
    }
   ],
   "source": [
    "string=input('Enter a string:')\n",
    "if string.isalnum():\n",
    "    print('String is alphanumeric')\n",
    "else:\n",
    "    print('String is not alphanumeric')"
   ]
  },
  {
   "cell_type": "markdown",
   "id": "f93f6efd",
   "metadata": {},
   "source": [
    "24. Extract all digits from a string."
   ]
  },
  {
   "cell_type": "code",
   "execution_count": 14,
   "id": "32e96e2f",
   "metadata": {},
   "outputs": [
    {
     "name": "stdout",
     "output_type": "stream",
     "text": [
      "Enter a alphanumeric string:Hello234world7898\n",
      "The digits from a string: 2347898\n"
     ]
    }
   ],
   "source": [
    "string=input('Enter a alphanumeric string:')\n",
    "num_string=''\n",
    "for i in string:\n",
    "    if i.isdigit():\n",
    "        num_string+=i\n",
    "print('The digits from a string:',num_string)"
   ]
  },
  {
   "cell_type": "markdown",
   "id": "ff670602",
   "metadata": {},
   "source": [
    "25. Extract all alphabets from a string."
   ]
  },
  {
   "cell_type": "code",
   "execution_count": 15,
   "id": "535137a2",
   "metadata": {},
   "outputs": [
    {
     "name": "stdout",
     "output_type": "stream",
     "text": [
      "Enter a alphanumeric string:Hellohi8799hehe\n",
      "The alphabets from a string: Hellohihehe\n"
     ]
    }
   ],
   "source": [
    "string=input('Enter a alphanumeric string:')\n",
    "num_string=''\n",
    "for i in string:\n",
    "    if i.isalpha():\n",
    "        num_string+=i\n",
    "print('The alphabets from a string:',num_string)"
   ]
  },
  {
   "cell_type": "markdown",
   "id": "d126c061",
   "metadata": {},
   "source": [
    "26. Count the number of uppercase letters in a string."
   ]
  },
  {
   "cell_type": "code",
   "execution_count": 4,
   "id": "853d1aed",
   "metadata": {},
   "outputs": [
    {
     "name": "stdout",
     "output_type": "stream",
     "text": [
      "Enter a string:I am a Boy\n",
      "The number of uppercase letter in a string is: 2\n"
     ]
    }
   ],
   "source": [
    "string=input('Enter a string:')\n",
    "count=0\n",
    "for i in string:\n",
    "    if i.isupper():\n",
    "        count+=1\n",
    "\n",
    "print('The number of uppercase letter in a string is:',count)"
   ]
  },
  {
   "cell_type": "markdown",
   "id": "538f9345",
   "metadata": {},
   "source": [
    "27. Count the number of lowercase letters in a string."
   ]
  },
  {
   "cell_type": "code",
   "execution_count": 5,
   "id": "ef28dc5a",
   "metadata": {},
   "outputs": [
    {
     "name": "stdout",
     "output_type": "stream",
     "text": [
      "Enter a string:Hello\n",
      "The number of lowercase letter in a string is: 4\n"
     ]
    }
   ],
   "source": [
    "string=input('Enter a string:')\n",
    "count=0\n",
    "for i in string:\n",
    "    if i.islower():\n",
    "        count+=1\n",
    "\n",
    "print('The number of lowercase letter in a string is:',count)"
   ]
  },
  {
   "cell_type": "markdown",
   "id": "3e32b431",
   "metadata": {},
   "source": [
    "28. Swap the case of each character in a string."
   ]
  },
  {
   "cell_type": "code",
   "execution_count": 6,
   "id": "78aa014e",
   "metadata": {},
   "outputs": [
    {
     "name": "stdout",
     "output_type": "stream",
     "text": [
      "Enter a string:HellO\n",
      "After swapping the case of each character is: hELLo\n"
     ]
    }
   ],
   "source": [
    "string=input('Enter a string:')\n",
    "string2=string.swapcase()\n",
    "print('After swapping the case of each character is:',string2)"
   ]
  },
  {
   "cell_type": "markdown",
   "id": "5b289655",
   "metadata": {},
   "source": [
    "29. Remove a specific word from a string."
   ]
  },
  {
   "cell_type": "code",
   "execution_count": 17,
   "id": "a0b7ae41",
   "metadata": {},
   "outputs": [
    {
     "name": "stdout",
     "output_type": "stream",
     "text": [
      "Enter a string: This is a python programming language\n",
      "Enter a specific word you want to remove: python\n",
      "The original string is This is a python programming language\n",
      "After removing python from string the string: This is a programming language\n"
     ]
    }
   ],
   "source": [
    "string=input('Enter a string: ')\n",
    "remove_word=input('Enter a specific word you want to remove: ')\n",
    "new_string=' '\n",
    "lst=string.split()\n",
    "lst.remove(remove_word)\n",
    "new_string=new_string.join(lst)\n",
    "print('The original string is',string)\n",
    "print(f'After removing {remove_word} from string the string:',new_string)"
   ]
  },
  {
   "cell_type": "markdown",
   "id": "be29e4a3",
   "metadata": {},
   "source": [
    "30. Check if a string is a valid email address."
   ]
  },
  {
   "cell_type": "code",
   "execution_count": 20,
   "id": "f8e847e5",
   "metadata": {},
   "outputs": [
    {
     "name": "stdout",
     "output_type": "stream",
     "text": [
      "Enter a email address: priya@gmail.com\n",
      "It is a Valid Email.\n"
     ]
    }
   ],
   "source": [
    "import re\n",
    "email=input('Enter a email address: ')\n",
    "pat = r'\\b[A-Za-z0-9._%+-]+@[A-Za-z0-9.-]+\\.[A-Z|a-z]{2,7}\\b'\n",
    "if re.fullmatch(pat,email):\n",
    "    print('It is a Valid Email.')\n",
    "else:\n",
    "    print('It is not a Valid email')"
   ]
  },
  {
   "cell_type": "markdown",
   "id": "2722f1fc",
   "metadata": {},
   "source": [
    "31. Extract the username from an email address string."
   ]
  },
  {
   "cell_type": "code",
   "execution_count": 21,
   "id": "dc783956",
   "metadata": {},
   "outputs": [
    {
     "name": "stdout",
     "output_type": "stream",
     "text": [
      "Enter a email address:priya@gmail.com\n",
      "The original email: priya@gmail.com\n",
      "The username: priya\n"
     ]
    }
   ],
   "source": [
    "email=input('Enter a email address:')\n",
    "username=email.split('@')[0]\n",
    "print('The original email:',email)\n",
    "print('The username:',username)"
   ]
  },
  {
   "cell_type": "markdown",
   "id": "86aff141",
   "metadata": {},
   "source": [
    "32. Extract the domain name from an email address string."
   ]
  },
  {
   "cell_type": "code",
   "execution_count": 22,
   "id": "05212426",
   "metadata": {},
   "outputs": [
    {
     "name": "stdout",
     "output_type": "stream",
     "text": [
      "Enter a email address:Priya@hotmail.com\n",
      "The orginal email: Priya@hotmail.com\n",
      "The domain name is: hotmail.com\n"
     ]
    }
   ],
   "source": [
    "email=input('Enter a email address:')\n",
    "domain=email.split('@')[1]\n",
    "print('The orginal email:',email)\n",
    "print('The domain name is:',domain)"
   ]
  },
  {
   "cell_type": "markdown",
   "id": "74fe0bf5",
   "metadata": {},
   "source": [
    "33. Replace multiple spaces in a string with a single space."
   ]
  },
  {
   "cell_type": "code",
   "execution_count": 25,
   "id": "1d4ea11c",
   "metadata": {},
   "outputs": [
    {
     "name": "stdout",
     "output_type": "stream",
     "text": [
      "Enter a line with multiple spaces:I  am   attending  PW     skills     Class\n",
      "The original line: I  am   attending  PW     skills     Class\n",
      "New string by replacing multiple spaces with single space: I am attending PW skills Class\n"
     ]
    }
   ],
   "source": [
    "string=input('Enter a line with multiple spaces:')\n",
    "new_string=' '.join(string.split())\n",
    "print('The original line:',string)\n",
    "print('New string by replacing multiple spaces with single space:',new_string)"
   ]
  },
  {
   "cell_type": "markdown",
   "id": "1d56f30e",
   "metadata": {},
   "source": [
    "34. Check if a string is a valid URL."
   ]
  },
  {
   "cell_type": "code",
   "execution_count": 34,
   "id": "8b88a82f",
   "metadata": {},
   "outputs": [
    {
     "name": "stdout",
     "output_type": "stream",
     "text": [
      "Enter a url: https://www.wikipedia.com\n"
     ]
    },
    {
     "data": {
      "text/plain": [
       "True"
      ]
     },
     "execution_count": 34,
     "metadata": {},
     "output_type": "execute_result"
    }
   ],
   "source": [
    "from urllib.parse import urlparse\n",
    "def check_url(url):\n",
    "    try:\n",
    "        result=urlparse(url)\n",
    "        return all([result.scheme,result.netloc])\n",
    "    except ValueError:\n",
    "        return False\n",
    "\n",
    "url=input('Enter a url: ')\n",
    "check_url(url)"
   ]
  },
  {
   "cell_type": "markdown",
   "id": "a792943f",
   "metadata": {},
   "source": [
    "35. Extract the protocol (http or https) from a URL string."
   ]
  },
  {
   "cell_type": "code",
   "execution_count": 36,
   "id": "8f6e721e",
   "metadata": {},
   "outputs": [
    {
     "name": "stdout",
     "output_type": "stream",
     "text": [
      "Enter a URLhttp://www.facebook.com\n",
      "The URL is http://www.facebook.com\n",
      "The protocol is http\n"
     ]
    }
   ],
   "source": [
    "url=input('Enter a URL')\n",
    "protocol=url.split('://')[0]\n",
    "print('The URL is',url)\n",
    "print('The protocol is',protocol)"
   ]
  },
  {
   "cell_type": "markdown",
   "id": "a8899941",
   "metadata": {},
   "source": [
    "36. Find the frequency of each character in a string."
   ]
  },
  {
   "cell_type": "code",
   "execution_count": 77,
   "id": "20761ae0",
   "metadata": {},
   "outputs": [
    {
     "name": "stdout",
     "output_type": "stream",
     "text": [
      "Enter a string:I am a good boy\n",
      "characters:I,Frequency:1\n",
      "characters: ,Frequency:4\n",
      "characters:a,Frequency:2\n",
      "characters:m,Frequency:1\n",
      "characters:g,Frequency:1\n",
      "characters:o,Frequency:3\n",
      "characters:d,Frequency:1\n",
      "characters:b,Frequency:1\n",
      "characters:y,Frequency:1\n"
     ]
    }
   ],
   "source": [
    "string=input('Enter a string:')\n",
    "frequency={}\n",
    "\n",
    "for char in string:\n",
    "    if char in frequency:\n",
    "        frequency[char]+=1\n",
    "    else:\n",
    "        frequency[char]=1\n",
    "\n",
    "for char, freq in frequency.items():\n",
    "    print(f'characters:{char},Frequency:{freq}')"
   ]
  },
  {
   "cell_type": "markdown",
   "id": "9eb96467",
   "metadata": {},
   "source": [
    "37. Remove all punctuation from a string."
   ]
  },
  {
   "cell_type": "code",
   "execution_count": 40,
   "id": "ad410834",
   "metadata": {},
   "outputs": [
    {
     "name": "stdout",
     "output_type": "stream",
     "text": [
      "Enter a string:Hello, What are you doing? Everything ok.\n",
      "After removing all punctuations string: Hello What are you doing Everything ok\n"
     ]
    }
   ],
   "source": [
    "import re\n",
    "string=input('Enter a string:')\n",
    "remove_punc=re.sub(r'[^\\w\\s]','',string)\n",
    "print('After removing all punctuations string:',remove_punc)"
   ]
  },
  {
   "cell_type": "markdown",
   "id": "0ca948ef",
   "metadata": {},
   "source": [
    "38. Check if a string contains only digits."
   ]
  },
  {
   "cell_type": "code",
   "execution_count": 23,
   "id": "5b502989",
   "metadata": {},
   "outputs": [
    {
     "name": "stdout",
     "output_type": "stream",
     "text": [
      "Enter a string:65435\n",
      "65435 contains only digits\n"
     ]
    }
   ],
   "source": [
    "string=input('Enter a string:')\n",
    "if string.isdigit():\n",
    "    print(f'{string} contains only digits')\n",
    "else:\n",
    "    print(f'{string} doesnot contains only digits')"
   ]
  },
  {
   "cell_type": "markdown",
   "id": "0d848484",
   "metadata": {},
   "source": [
    "39. Check if a string contains only alphabets."
   ]
  },
  {
   "cell_type": "code",
   "execution_count": 14,
   "id": "e1119fa6",
   "metadata": {},
   "outputs": [
    {
     "name": "stdout",
     "output_type": "stream",
     "text": [
      "Enter a string:Hello\n",
      "Hello contains only alphabets\n"
     ]
    }
   ],
   "source": [
    "string=input('Enter a string:')\n",
    "if string.isalpha():\n",
    "    print(f'{string} contains only alphabets')\n",
    "else:\n",
    "    print(f'{string} doesnot contains only alphabets')"
   ]
  },
  {
   "cell_type": "markdown",
   "id": "cf7cd1dc",
   "metadata": {},
   "source": [
    "40. Convert a string to a list of characters."
   ]
  },
  {
   "cell_type": "code",
   "execution_count": 15,
   "id": "39e736de",
   "metadata": {},
   "outputs": [
    {
     "name": "stdout",
     "output_type": "stream",
     "text": [
      "Enter a string:I am a boy\n",
      "I am a boy after converting to a list of characters:['I', 'am', 'a', 'boy']\n"
     ]
    }
   ],
   "source": [
    "string=input('Enter a string:')\n",
    "lst=string.split()\n",
    "print(f'{string} after converting to a list of characters:{lst}')"
   ]
  },
  {
   "cell_type": "markdown",
   "id": "8fa0a45e",
   "metadata": {},
   "source": [
    "41. Check if two strings are anagrams."
   ]
  },
  {
   "cell_type": "code",
   "execution_count": 19,
   "id": "a97da7c6",
   "metadata": {},
   "outputs": [
    {
     "name": "stdout",
     "output_type": "stream",
     "text": [
      "Enter the first string:listen\n",
      "Enter the second string:silent\n",
      "Both strings are anagrams\n"
     ]
    }
   ],
   "source": [
    "string1=input('Enter the first string:')\n",
    "string2=input('Enter the second string:')\n",
    "if sorted(string1)==sorted(string2):\n",
    "    print('Both strings are anagrams')\n",
    "else:\n",
    "    print('both strings are not anagrams')"
   ]
  },
  {
   "cell_type": "markdown",
   "id": "03d90c5c",
   "metadata": {},
   "source": [
    "42. Encode a string using a Caesar cipher."
   ]
  },
  {
   "cell_type": "code",
   "execution_count": 94,
   "id": "4ee9e70f",
   "metadata": {},
   "outputs": [
    {
     "name": "stdout",
     "output_type": "stream",
     "text": [
      "Enter a text:hello,python\n",
      "Enter shift position:3\n",
      "The encoded text: khoor,sbwkrq\n"
     ]
    }
   ],
   "source": [
    "text=input('Enter a text:')\n",
    "shift=int(input('Enter shift position:'))\n",
    "encoded_text=''\n",
    "\n",
    "for char in text:\n",
    "    if char.isalpha():\n",
    "        encoded_char=chr((ord(char)+shift-ord('a'))%26+ord('a'))\n",
    "    else:\n",
    "        encoded_char=char\n",
    "\n",
    "    encoded_text+=encoded_char\n",
    "print('The encoded text:',encoded_text)"
   ]
  },
  {
   "cell_type": "markdown",
   "id": "2161d95b",
   "metadata": {},
   "source": [
    "43. Decode a Caesar cipher encoded string."
   ]
  },
  {
   "cell_type": "code",
   "execution_count": 95,
   "id": "ba15a645",
   "metadata": {},
   "outputs": [
    {
     "name": "stdout",
     "output_type": "stream",
     "text": [
      "Enter a text:khoor,sbwkrq\n",
      "Enter shift position:3\n",
      "The decoded text: hello,python\n"
     ]
    }
   ],
   "source": [
    "text=input('Enter a text:')\n",
    "shift=int(input('Enter shift position:'))\n",
    "decoded_text=''\n",
    "for char in text:\n",
    "    if char.isalpha():\n",
    "        decoded_char=chr((ord(char)-shift-ord('a'))%26+ord('a'))\n",
    "    else:\n",
    "        decoded_char=char\n",
    "\n",
    "    decoded_text+=decoded_char\n",
    "print('The decoded text:',decoded_text)"
   ]
  },
  {
   "cell_type": "markdown",
   "id": "b0a6b03d",
   "metadata": {},
   "source": [
    "44. Find the most frequent word in a string."
   ]
  },
  {
   "cell_type": "code",
   "execution_count": 90,
   "id": "d0d8617e",
   "metadata": {},
   "outputs": [
    {
     "name": "stdout",
     "output_type": "stream",
     "text": [
      "The maximum used word in this string: hello\n"
     ]
    }
   ],
   "source": [
    "string=\"Hello world, hello there! How's the world?\".lower()\n",
    "res={}\n",
    "conv=string.split()\n",
    "\n",
    "for i in conv:\n",
    "    if i in res:\n",
    "        res[i]+=1\n",
    "    else:\n",
    "        res[i]=1\n",
    "\n",
    "Keymax = max(zip(res.values(), res.keys()))[1]\n",
    "print('The maximum used word in this string:',Keymax)"
   ]
  },
  {
   "cell_type": "markdown",
   "id": "a104ae2f",
   "metadata": {},
   "source": [
    "45. Find all unique words in a string."
   ]
  },
  {
   "cell_type": "code",
   "execution_count": 38,
   "id": "b4c237c3",
   "metadata": {},
   "outputs": [
    {
     "name": "stdout",
     "output_type": "stream",
     "text": [
      "Enter a string:Hello World,Hello there, why you there\n",
      "The unique words in a string is: {'why', 'you', 'Hello', 'World', 'there'}\n"
     ]
    }
   ],
   "source": [
    "import re\n",
    "string=input('Enter a string:')\n",
    "clean_string=re.sub(r'[^\\w\\s]',' ',string)\n",
    "unique_words=set(clean_string.split())\n",
    "print('The unique words in a string is:',unique_words)"
   ]
  },
  {
   "cell_type": "markdown",
   "id": "d0ad3de0",
   "metadata": {},
   "source": [
    "46. Count the number of syllables in a string."
   ]
  },
  {
   "cell_type": "code",
   "execution_count": 81,
   "id": "e55c7b26",
   "metadata": {},
   "outputs": [
    {
     "name": "stdout",
     "output_type": "stream",
     "text": [
      "Enter a string:Hello\n",
      "The syllables in Hello: 2\n"
     ]
    }
   ],
   "source": [
    "import re\n",
    "word=input('Enter a string:')\n",
    "vowel_group=re.findall(r'[aeiouy]+',word,re.IGNORECASE)\n",
    "print(f'The syllables in {word}:',len(vowel_group))"
   ]
  },
  {
   "cell_type": "markdown",
   "id": "01015257",
   "metadata": {},
   "source": [
    "47. Check if a string contains any special characters."
   ]
  },
  {
   "cell_type": "code",
   "execution_count": 85,
   "id": "745b4d43",
   "metadata": {},
   "outputs": [
    {
     "name": "stdout",
     "output_type": "stream",
     "text": [
      "Enter a string: Hello,World!\n",
      "The string Hello,World! contains any special characters: True\n"
     ]
    }
   ],
   "source": [
    "import re\n",
    "string=input('Enter a string: ')\n",
    "special_char=re.compile(r'[!@#$%^&*()_+{}\\[\\]:;<>.,?~\\\\/]')\n",
    "match=special_char.search(string)\n",
    "print(f'The string {string} contains any special characters:',bool(match))"
   ]
  },
  {
   "cell_type": "markdown",
   "id": "ba75bf84",
   "metadata": {},
   "source": [
    "48. Remove the nth word from a string."
   ]
  },
  {
   "cell_type": "code",
   "execution_count": 62,
   "id": "358c31ff",
   "metadata": {},
   "outputs": [
    {
     "name": "stdout",
     "output_type": "stream",
     "text": [
      "Enter a string for input: I am a boy\n",
      "Enter the position for remove: 3\n",
      "Original String: I am a boy\n",
      "new string after removing from 3 position: I am boy\n",
      "Removed word: a\n"
     ]
    }
   ],
   "source": [
    "def remove_nth_word(string,n):\n",
    "    word=string.split()\n",
    "    removed_word=word[n-1]\n",
    "    removed_word_pos=word.pop(n-1)\n",
    "    new_string=' '.join(word)\n",
    "    \n",
    "    return new_string,removed_word\n",
    "string=input('Enter a string for input: ')\n",
    "n_pos=int(input('Enter the position for remove: '))\n",
    "new_str,remove_word=remove_nth_word(string,n_pos)\n",
    "print('Original String:',string)\n",
    "print(f'new string after removing from {n_pos} position: {new_str}')\n",
    "print('Removed word:',remove_word)"
   ]
  },
  {
   "cell_type": "markdown",
   "id": "ec71e77b",
   "metadata": {},
   "source": [
    "49. Insert a word at the nth position in a string."
   ]
  },
  {
   "cell_type": "code",
   "execution_count": 65,
   "id": "2ef84289",
   "metadata": {},
   "outputs": [
    {
     "name": "stdout",
     "output_type": "stream",
     "text": [
      "Enter a string:Hello This is Assignment\n",
      "Enter a word:an\n",
      "Enter a pos:4\n",
      "Original String: Hello This is Assignment\n",
      "New String after adding an at postion 4: Hello This is an Assignment\n"
     ]
    }
   ],
   "source": [
    "def add_nth_word(string,word,n):\n",
    "    lst=string.split()\n",
    "    add_pos=lst.insert(n-1,word)\n",
    "    string=' '.join(lst)\n",
    "\n",
    "    return string\n",
    "\n",
    "string=input('Enter a string:')\n",
    "word=input('Enter a word:')\n",
    "n_pos=int(input('Enter a pos:'))\n",
    "\n",
    "new_str=add_nth_word(string,word,n_pos)\n",
    "print('Original String:',string)\n",
    "print(f'New String after adding {word} at postion {n_pos}: {new_str}')"
   ]
  },
  {
   "cell_type": "markdown",
   "id": "04259761",
   "metadata": {},
   "source": [
    "50. Convert a CSV string to a list of lists."
   ]
  },
  {
   "cell_type": "code",
   "execution_count": 89,
   "id": "4a6fd4c8",
   "metadata": {},
   "outputs": [
    {
     "name": "stdout",
     "output_type": "stream",
     "text": [
      "['Name ', 'ID ', ' pos']\n",
      "['Priya ', ' 1 ', ' ASE']\n",
      "['Kiran ', ' 2 ', ' AD']\n",
      "['Pratyush ', ' 3 ', ' RND']\n"
     ]
    }
   ],
   "source": [
    "csv_data='Name ,ID , pos\\nPriya , 1 , ASE\\nKiran , 2 , AD\\nPratyush , 3 , RND'\n",
    "csv_list=[]\n",
    "lines=csv_data.split('\\n')\n",
    "for l in lines:\n",
    "    field=l.split(',')\n",
    "    csv_list.append(field)\n",
    "for i in csv_list:\n",
    "    print(i)"
   ]
  },
  {
   "cell_type": "markdown",
   "id": "8d8197c8",
   "metadata": {},
   "source": [
    "# List Based Practice Problem :"
   ]
  },
  {
   "cell_type": "markdown",
   "id": "7d217e66",
   "metadata": {},
   "source": [
    "1. Create a list with integers from 1 to 10."
   ]
  },
  {
   "cell_type": "code",
   "execution_count": 26,
   "id": "75f5d653",
   "metadata": {},
   "outputs": [
    {
     "name": "stdout",
     "output_type": "stream",
     "text": [
      "The list of integers from 1 to 10 is [1, 2, 3, 4, 5, 6, 7, 8, 9, 10]\n"
     ]
    }
   ],
   "source": [
    "integer=[x for x in range(1,11)]\n",
    "print('The list of integers from 1 to 10 is',integer)"
   ]
  },
  {
   "cell_type": "markdown",
   "id": "e7baa334",
   "metadata": {},
   "source": [
    "2. Find the length of a list without using the `len()` function."
   ]
  },
  {
   "cell_type": "code",
   "execution_count": 28,
   "id": "cb0a3304",
   "metadata": {},
   "outputs": [
    {
     "name": "stdout",
     "output_type": "stream",
     "text": [
      "The length of a list is 6\n"
     ]
    }
   ],
   "source": [
    "lst=['I','am','a','boy',5,7]\n",
    "count=0\n",
    "for i in lst:\n",
    "    count+=1\n",
    "print('The length of a list is',count)"
   ]
  },
  {
   "cell_type": "markdown",
   "id": "152cf2d0",
   "metadata": {},
   "source": [
    "3. Append an element to the end of a list."
   ]
  },
  {
   "cell_type": "code",
   "execution_count": 29,
   "id": "d38ce90e",
   "metadata": {},
   "outputs": [
    {
     "name": "stdout",
     "output_type": "stream",
     "text": [
      "Enter your namePriyabrata\n",
      "The list appending an elemnt  ['My', 'name', 'is', 'Priyabrata']\n"
     ]
    }
   ],
   "source": [
    "lst=['My','name','is']\n",
    "string=input('Enter your name')\n",
    "lst.append(string)\n",
    "print('The list appending an elemnt ',lst)"
   ]
  },
  {
   "cell_type": "markdown",
   "id": "62b573b3",
   "metadata": {},
   "source": [
    "4. Insert an element at a specific index in a list."
   ]
  },
  {
   "cell_type": "code",
   "execution_count": 32,
   "id": "96d33bb1",
   "metadata": {},
   "outputs": [
    {
     "name": "stdout",
     "output_type": "stream",
     "text": [
      "Enter the nth position to add an element:3\n",
      "Enter a car brandRolls Royace\n",
      "The updated list is: ['BMW', 'Mercedes', 'Volvo', 'Rolls Royace', 'Mclaren', 'Audi']\n"
     ]
    }
   ],
   "source": [
    "cars=['BMW','Mercedes','Volvo','Mclaren','Audi']\n",
    "num=int(input('Enter the nth position to add an element:'))\n",
    "car=input('Enter a car brand')\n",
    "cars.insert(num,car)\n",
    "print('The updated list is:',cars)"
   ]
  },
  {
   "cell_type": "markdown",
   "id": "6dd384b0",
   "metadata": {},
   "source": [
    "5. Remove an element from a list by its value."
   ]
  },
  {
   "cell_type": "code",
   "execution_count": 35,
   "id": "24d3efcc",
   "metadata": {},
   "outputs": [
    {
     "name": "stdout",
     "output_type": "stream",
     "text": [
      "Enter the value to remove from listbanana\n",
      "After removing banana the updated list is ['orange', 'apple', 'cherry']\n"
     ]
    }
   ],
   "source": [
    "fruits=['orange','banana','apple','cherry']\n",
    "n=input('Enter the value to remove from list')\n",
    "fruits.remove(n)\n",
    "print(f'After removing {n} the updated list is',fruits)"
   ]
  },
  {
   "cell_type": "markdown",
   "id": "210c01cc",
   "metadata": {},
   "source": [
    "6. Remove an element from a list by its index."
   ]
  },
  {
   "cell_type": "code",
   "execution_count": 36,
   "id": "92e4fcec",
   "metadata": {},
   "outputs": [
    {
     "name": "stdout",
     "output_type": "stream",
     "text": [
      "Enter the nth position to remove from list1\n",
      "After removing 1 the updated list is ['Gucci', 'Armani', 'Versache', 'Prada']\n"
     ]
    }
   ],
   "source": [
    "brands=['Gucci','LV','Armani','Versache','Prada']\n",
    "n=int(input('Enter the nth position to remove from list'))\n",
    "brands.pop(n)\n",
    "print(f'After removing {n} the updated list is',brands)"
   ]
  },
  {
   "cell_type": "markdown",
   "id": "597b9a38",
   "metadata": {},
   "source": [
    "7. Check if an element exists in a list."
   ]
  },
  {
   "cell_type": "code",
   "execution_count": 40,
   "id": "3af10e22",
   "metadata": {},
   "outputs": [
    {
     "name": "stdout",
     "output_type": "stream",
     "text": [
      "Enter a name to check if it is exist in list or not:Jaddu\n",
      "Jaddu is available in ['Rohit', 'Virat', 'KL', 'Ishan', 'Gill', 'Hardik', 'Jaddu']\n"
     ]
    }
   ],
   "source": [
    "name=['Rohit','Virat','KL','Ishan','Gill','Hardik','Jaddu']\n",
    "n=input('Enter a name to check if it is exist in list or not:')\n",
    "if n in name:\n",
    "    print(f'{n} is available in {name}')\n",
    "else:\n",
    "    print(f'{n} is not available in {name}')"
   ]
  },
  {
   "cell_type": "markdown",
   "id": "d1262f88",
   "metadata": {},
   "source": [
    "8. Find the index of the first occurrence of an element in a list."
   ]
  },
  {
   "cell_type": "code",
   "execution_count": 96,
   "id": "25a50eef",
   "metadata": {},
   "outputs": [
    {
     "name": "stdout",
     "output_type": "stream",
     "text": [
      "Enter a word to find its index:banana\n",
      "The index of banana is 1\n"
     ]
    }
   ],
   "source": [
    "fruits=['apple','banana','cherry','mango']\n",
    "word=input('Enter a word to find its index:')\n",
    "index=fruits.index(word)\n",
    "print(f'The index of {word} is {index}')"
   ]
  },
  {
   "cell_type": "markdown",
   "id": "2decd3f3",
   "metadata": {},
   "source": [
    "9. Count the occurrences of an element in a list."
   ]
  },
  {
   "cell_type": "code",
   "execution_count": 98,
   "id": "598a1c59",
   "metadata": {},
   "outputs": [
    {
     "name": "stdout",
     "output_type": "stream",
     "text": [
      "Enter a word:apple\n",
      "The occurance of apple is 2 in this list\n"
     ]
    }
   ],
   "source": [
    "fruits=['apple','banana','cherry','apple']\n",
    "word=input('Enter a word:')\n",
    "count=fruits.count(word)\n",
    "print(f'The occurance of {word} is {count} in this list')"
   ]
  },
  {
   "cell_type": "markdown",
   "id": "ab3d09c2",
   "metadata": {},
   "source": [
    "10. Reverse the order of elements in a list."
   ]
  },
  {
   "cell_type": "code",
   "execution_count": 42,
   "id": "270b010b",
   "metadata": {},
   "outputs": [
    {
     "name": "stdout",
     "output_type": "stream",
     "text": [
      "The reverse order list is ['helmet', 'pad', 'gloves', 'ball', 'bat']\n"
     ]
    }
   ],
   "source": [
    "kit=['bat','ball','gloves','pad','helmet']\n",
    "rev_kit=kit[::-1]\n",
    "print('The reverse order list is',rev_kit)"
   ]
  },
  {
   "cell_type": "markdown",
   "id": "c57bc62b",
   "metadata": {},
   "source": [
    "11. Sort a list in ascending order."
   ]
  },
  {
   "cell_type": "code",
   "execution_count": 5,
   "id": "1811ef46",
   "metadata": {},
   "outputs": [
    {
     "name": "stdout",
     "output_type": "stream",
     "text": [
      "The sorted list in ascending order: ['a', 'b', 'c', 'd', 'e', 'f']\n"
     ]
    }
   ],
   "source": [
    "alphabet=['d','f','b','a','e','c']\n",
    "alphabet.sort()\n",
    "print('The sorted list in ascending order:',alphabet)"
   ]
  },
  {
   "cell_type": "markdown",
   "id": "f1365fdd",
   "metadata": {},
   "source": [
    "12. Sort a list in descending order."
   ]
  },
  {
   "cell_type": "code",
   "execution_count": 6,
   "id": "a0e995ec",
   "metadata": {},
   "outputs": [
    {
     "name": "stdout",
     "output_type": "stream",
     "text": [
      "The sorted list in descending order: ['u', 'o', 'i', 'e', 'a']\n"
     ]
    }
   ],
   "source": [
    "vowel=['a','i','u','e','o']\n",
    "vowel.sort(reverse=True)\n",
    "print('The sorted list in descending order:',vowel)"
   ]
  },
  {
   "cell_type": "markdown",
   "id": "2a29f260",
   "metadata": {},
   "source": [
    "13. Create a list of even numbers from 1 to 20."
   ]
  },
  {
   "cell_type": "code",
   "execution_count": 10,
   "id": "ad522732",
   "metadata": {},
   "outputs": [
    {
     "name": "stdout",
     "output_type": "stream",
     "text": [
      "The list of even numbers from 1 to 20 are: [2, 4, 6, 8, 10, 12, 14, 16, 18, 20]\n"
     ]
    }
   ],
   "source": [
    "even=[x for x in range(1,21) if x%2==0]\n",
    "print('The list of even numbers from 1 to 20 are:',even)"
   ]
  },
  {
   "cell_type": "markdown",
   "id": "7620548b",
   "metadata": {},
   "source": [
    "14. Create a list of odd numbers from 1 to 20."
   ]
  },
  {
   "cell_type": "code",
   "execution_count": 11,
   "id": "0956fc58",
   "metadata": {},
   "outputs": [
    {
     "name": "stdout",
     "output_type": "stream",
     "text": [
      "The list of odd numbers from 1 to 20 are: [1, 3, 5, 7, 9, 11, 13, 15, 17, 19]\n"
     ]
    }
   ],
   "source": [
    "odd=[x for x in range(1,21) if x%2!=0]\n",
    "print('The list of odd numbers from 1 to 20 are:',odd)"
   ]
  },
  {
   "cell_type": "markdown",
   "id": "9f4378ee",
   "metadata": {},
   "source": [
    "15. Find the sum of all elements in a list."
   ]
  },
  {
   "cell_type": "code",
   "execution_count": 14,
   "id": "4585e64a",
   "metadata": {},
   "outputs": [
    {
     "name": "stdout",
     "output_type": "stream",
     "text": [
      "Enter number of element to be added to the list5\n",
      "23\n",
      "56\n",
      "87\n",
      "26\n",
      "12\n",
      "The sum of the all elements in the list are 204\n"
     ]
    }
   ],
   "source": [
    "lst=[]\n",
    "sum=0\n",
    "num=int(input('Enter number of element to be added to the list'))\n",
    "for i in range(0,num):\n",
    "    ele=int(input())\n",
    "    lst.append(ele)\n",
    "for i in lst:\n",
    "    sum+=i\n",
    "print('The sum of the all elements in the list are',sum)"
   ]
  },
  {
   "cell_type": "markdown",
   "id": "1328e8f0",
   "metadata": {},
   "source": [
    "16. Find the maximum value in a list."
   ]
  },
  {
   "cell_type": "code",
   "execution_count": 99,
   "id": "cb6a0353",
   "metadata": {},
   "outputs": [
    {
     "name": "stdout",
     "output_type": "stream",
     "text": [
      "The maximum value in this list 122\n"
     ]
    }
   ],
   "source": [
    "num=[10,122,34,67,33,9,3]\n",
    "print('The maximum value in this list',max(num))"
   ]
  },
  {
   "cell_type": "markdown",
   "id": "80ee75d5",
   "metadata": {},
   "source": [
    "17. Find the minimum value in a list."
   ]
  },
  {
   "cell_type": "code",
   "execution_count": 100,
   "id": "07dc1440",
   "metadata": {},
   "outputs": [
    {
     "name": "stdout",
     "output_type": "stream",
     "text": [
      "The maximum value in this list 3\n"
     ]
    }
   ],
   "source": [
    "num=[10,122,34,67,33,9,3]\n",
    "print('The maximum value in this list',min(num))"
   ]
  },
  {
   "cell_type": "markdown",
   "id": "f3cf4c38",
   "metadata": {},
   "source": [
    "18. Create a list of squares of numbers from 1 to 10."
   ]
  },
  {
   "cell_type": "code",
   "execution_count": 16,
   "id": "8a17b0df",
   "metadata": {},
   "outputs": [
    {
     "name": "stdout",
     "output_type": "stream",
     "text": [
      "The list of squares of numbers from 1 to 10 are: [1, 4, 9, 16, 25, 36, 49, 64, 81, 100]\n"
     ]
    }
   ],
   "source": [
    "square=[x**2 for x in range(1,11)]\n",
    "print('The list of squares of numbers from 1 to 10 are:',square)"
   ]
  },
  {
   "cell_type": "markdown",
   "id": "e4b86ea3",
   "metadata": {},
   "source": [
    "19. Create a list of random numbers."
   ]
  },
  {
   "cell_type": "code",
   "execution_count": 18,
   "id": "7359de61",
   "metadata": {},
   "outputs": [
    {
     "name": "stdout",
     "output_type": "stream",
     "text": [
      "Enter the required random numbers: 10\n",
      "Enter a starting number: 23\n",
      "Enter a stopping number: 678\n",
      "list of random numbers are: [489, 336, 291, 637, 444, 255, 32, 325, 600, 667]\n"
     ]
    }
   ],
   "source": [
    "from random import randint\n",
    "n=int(input('Enter the required random numbers: '))\n",
    "start=int(input('Enter a starting number: '))\n",
    "stop=int(input('Enter a stopping number: '))\n",
    "rand_list=[]\n",
    "for i in range(n):\n",
    "    rand_list.append(randint(start,stop))\n",
    "print('list of random numbers are:',rand_list)    "
   ]
  },
  {
   "cell_type": "markdown",
   "id": "9c64663b",
   "metadata": {},
   "source": [
    "20. Remove duplicates from a list."
   ]
  },
  {
   "cell_type": "code",
   "execution_count": 101,
   "id": "5cf69ca2",
   "metadata": {},
   "outputs": [
    {
     "name": "stdout",
     "output_type": "stream",
     "text": [
      "The original list: [10, 11, 12, 13, 14, 10, 11, 13, 15, 16, 11, 17, 13, 18]\n",
      "After removing duplicates the list: [10, 11, 12, 13, 14, 15, 16, 17, 18]\n"
     ]
    }
   ],
   "source": [
    "num=[10,11,12,13,14,10,11,13,15,16,11,17,13,18]\n",
    "org_list=[]\n",
    "for i in num:\n",
    "    if i not in org_list:\n",
    "        org_list.append(i)\n",
    "\n",
    "print('The original list:',num)\n",
    "print('After removing duplicates the list:',org_list)"
   ]
  },
  {
   "cell_type": "markdown",
   "id": "4f0c7516",
   "metadata": {},
   "source": [
    "21. Find the common elements between two lists."
   ]
  },
  {
   "cell_type": "code",
   "execution_count": null,
   "id": "19dff0b9",
   "metadata": {},
   "outputs": [],
   "source": [
    "num1=[10,11,12,13,14,15]\n",
    "num2=[15,16,12,17,18,19,14]\n",
    "common_ele=[]\n",
    "for i in num1:\n",
    "    if i in num2:\n",
    "        common_ele.append(i)\n",
    "print('The first list:',num1)\n",
    "print('The second list:',num2)\n",
    "print('The common element between two lists are:',common_ele)"
   ]
  },
  {
   "cell_type": "markdown",
   "id": "de8f01e4",
   "metadata": {},
   "source": [
    "22. Find the difference between two lists."
   ]
  },
  {
   "cell_type": "code",
   "execution_count": 102,
   "id": "9c5b0d5b",
   "metadata": {},
   "outputs": [
    {
     "name": "stdout",
     "output_type": "stream",
     "text": [
      "The first list: [10, 11, 12, 13, 14, 15]\n",
      "The second list: [15, 16, 12, 17, 18, 19, 14]\n",
      "The different element between two lists are: [10, 11, 13]\n"
     ]
    }
   ],
   "source": [
    "num1=[10,11,12,13,14,15]\n",
    "num2=[15,16,12,17,18,19,14]\n",
    "differ_ele=[]\n",
    "for i in num1:\n",
    "    if i not in num2:\n",
    "        differ_ele.append(i)\n",
    "print('The first list:',num1)\n",
    "print('The second list:',num2)\n",
    "print('The different element between two lists are:',differ_ele)"
   ]
  },
  {
   "cell_type": "markdown",
   "id": "49cd2656",
   "metadata": {},
   "source": [
    "23. Merge two lists."
   ]
  },
  {
   "cell_type": "code",
   "execution_count": 19,
   "id": "2886eca1",
   "metadata": {},
   "outputs": [
    {
     "name": "stdout",
     "output_type": "stream",
     "text": [
      "After merging two list the list: [10, 11, 12, 13, 14, 15, 16, 17, 18, 19]\n"
     ]
    }
   ],
   "source": [
    "list1=[10,11,12,13,14]\n",
    "list2=[15,16,17,18,19]\n",
    "list3=list1+list2\n",
    "print('After merging two list the list:',list3)"
   ]
  },
  {
   "cell_type": "markdown",
   "id": "c0b45522",
   "metadata": {},
   "source": [
    "24. Multiply all elements in a list by 2."
   ]
  },
  {
   "cell_type": "code",
   "execution_count": 22,
   "id": "8f1ee37c",
   "metadata": {},
   "outputs": [
    {
     "name": "stdout",
     "output_type": "stream",
     "text": [
      "After multiplying all elements by 2: [24, 290, 134, 64, 178]\n"
     ]
    }
   ],
   "source": [
    "list1=[12,145,67,32,89]\n",
    "list1=[x*2 for x in list1]\n",
    "print('After multiplying all elements by 2:',list1)"
   ]
  },
  {
   "cell_type": "markdown",
   "id": "a8a03410",
   "metadata": {},
   "source": [
    "25. Filter out all even numbers from a list."
   ]
  },
  {
   "cell_type": "code",
   "execution_count": 23,
   "id": "709f4486",
   "metadata": {},
   "outputs": [
    {
     "name": "stdout",
     "output_type": "stream",
     "text": [
      "all even numbers from original list: [10, 12, 14, 16, 18, 20]\n"
     ]
    }
   ],
   "source": [
    "org_list=[10,11,12,13,14,15,16,17,18,19,20]\n",
    "even_list=[x for x in org_list if x%2==0]\n",
    "print('all even numbers from original list:',even_list)"
   ]
  },
  {
   "cell_type": "markdown",
   "id": "54030a92",
   "metadata": {},
   "source": [
    "26. Convert a list of strings to a list of integers."
   ]
  },
  {
   "cell_type": "code",
   "execution_count": 103,
   "id": "86dae281",
   "metadata": {},
   "outputs": [
    {
     "name": "stdout",
     "output_type": "stream",
     "text": [
      "After converting a list from string to integer: [1, 2, 3, 4, 5]\n"
     ]
    }
   ],
   "source": [
    "num=['1','2','3','4','5']\n",
    "new_list=[]\n",
    "for i in num:\n",
    "    new_list.append(int(i))\n",
    "print('After converting a list from string to integer:',new_list)"
   ]
  },
  {
   "cell_type": "markdown",
   "id": "b61cf330",
   "metadata": {},
   "source": [
    "27. Convert a list of integers to a list of strings."
   ]
  },
  {
   "cell_type": "code",
   "execution_count": 104,
   "id": "3e9152fc",
   "metadata": {},
   "outputs": [
    {
     "name": "stdout",
     "output_type": "stream",
     "text": [
      "After converting a list from integer to string: ['1', '2', '3', '4', '5']\n"
     ]
    }
   ],
   "source": [
    "num=[1,2,3,4,5]\n",
    "new_list=[]\n",
    "for i in num:\n",
    "    new_list.append(str(i))\n",
    "print('After converting a list from integer to string:',new_list)"
   ]
  },
  {
   "cell_type": "markdown",
   "id": "f8e3f5e8",
   "metadata": {},
   "source": [
    "28. Flatten a nested list."
   ]
  },
  {
   "cell_type": "code",
   "execution_count": 24,
   "id": "278db774",
   "metadata": {},
   "outputs": [
    {
     "name": "stdout",
     "output_type": "stream",
     "text": [
      "The flatten list is [1, 2, 3, 4, 5, 6, 7, 8, 9, 10]\n"
     ]
    }
   ],
   "source": [
    "nest_list=[[1],[2,3],[4,5,6],[7,8,9,10]]\n",
    "flat_list=[num for sublist in nest_list for num in sublist]\n",
    "print('The flatten list is',flat_list)"
   ]
  },
  {
   "cell_type": "markdown",
   "id": "3e8bd860",
   "metadata": {},
   "source": [
    "29. Create a list of the first 10 Fibonacci numbers."
   ]
  },
  {
   "cell_type": "code",
   "execution_count": 105,
   "id": "b767f9fd",
   "metadata": {},
   "outputs": [
    {
     "name": "stdout",
     "output_type": "stream",
     "text": [
      "The first 10 Fibonacci numbers are: [0, 1, 1, 2, 3, 5, 8, 13, 21, 34]\n"
     ]
    }
   ],
   "source": [
    "num1=0\n",
    "num2=1\n",
    "num3=num1+num2\n",
    "lst=[]\n",
    "for i in range(10):\n",
    "    num3 = num1 + num2\n",
    "    lst.append(num1)\n",
    "    num1=num2\n",
    "    num2=num3\n",
    "print('The first 10 Fibonacci numbers are:',lst)"
   ]
  },
  {
   "cell_type": "markdown",
   "id": "3211eda2",
   "metadata": {},
   "source": [
    "30. Check if a list is sorted."
   ]
  },
  {
   "cell_type": "code",
   "execution_count": 31,
   "id": "3f4d90e6",
   "metadata": {},
   "outputs": [
    {
     "name": "stdout",
     "output_type": "stream",
     "text": [
      "Enter the number of input to be added to the list5\n",
      "The list elements are:\n",
      "12\n",
      "23\n",
      "22\n",
      "45\n",
      "13\n",
      "The original list is  [12, 23, 22, 45, 13]\n",
      "list is not sorted\n"
     ]
    }
   ],
   "source": [
    "org_list=[]\n",
    "num=int(input('Enter the number of input to be added to the list'))\n",
    "print('The list elements are:')\n",
    "for i in range(num):\n",
    "    ele=int(input())\n",
    "    org_list.append(ele)\n",
    "print('The original list is ',org_list)\n",
    "org_list_copy=org_list[:]\n",
    "org_list_copy.sort()\n",
    "if org_list==org_list_copy:\n",
    "    print('list is sorted')\n",
    "else:\n",
    "    print('list is not sorted')"
   ]
  },
  {
   "cell_type": "markdown",
   "id": "cb893c37",
   "metadata": {},
   "source": [
    "31. Rotate a list to the left by `n` positions."
   ]
  },
  {
   "cell_type": "code",
   "execution_count": 3,
   "id": "22b29faf",
   "metadata": {},
   "outputs": [
    {
     "name": "stdout",
     "output_type": "stream",
     "text": [
      "Enter a number for left rotation:2\n",
      "The roateted list by 2 to the left: [3, 4, 5, 6, 7, 8, 1, 2]\n"
     ]
    }
   ],
   "source": [
    "num=[1,2,3,4,5,6,7,8]\n",
    "n=int(input('Enter a number for left rotation:'))\n",
    "n=n%len(num)\n",
    "\n",
    "roateted_list=num[n:]+num[:n]\n",
    "print(f'The roateted list by {n} to the left:',roateted_list)"
   ]
  },
  {
   "cell_type": "markdown",
   "id": "e69a52c6",
   "metadata": {},
   "source": [
    "32. Rotate a list to the right by `n` positions."
   ]
  },
  {
   "cell_type": "code",
   "execution_count": 5,
   "id": "b01fd14a",
   "metadata": {},
   "outputs": [
    {
     "name": "stdout",
     "output_type": "stream",
     "text": [
      "Enter a number for right rotation:2\n",
      "The roateted list by 2 to the right: [7, 8, 1, 2, 3, 4, 5, 6]\n"
     ]
    }
   ],
   "source": [
    "num=[1,2,3,4,5,6,7,8]\n",
    "n=int(input('Enter a number for right rotation:'))\n",
    "n=n%len(num)\n",
    "\n",
    "roateted_list=num[-n:]+num[:-n]\n",
    "print(f'The roateted list by {n} to the right:',roateted_list)"
   ]
  },
  {
   "cell_type": "markdown",
   "id": "772a0afb",
   "metadata": {},
   "source": [
    "33. Create a list of prime numbers up to 50."
   ]
  },
  {
   "cell_type": "code",
   "execution_count": 35,
   "id": "e0c47dbb",
   "metadata": {},
   "outputs": [
    {
     "name": "stdout",
     "output_type": "stream",
     "text": [
      "The list of prime numbers up to 50: [2, 3, 5, 7, 11, 13, 17, 19, 23, 29, 31, 37, 41, 43, 47]\n"
     ]
    }
   ],
   "source": [
    "prime=[]\n",
    "flag=False\n",
    "for num in range(2,50):\n",
    "    for x in range(2,num):\n",
    "        if num%x==0:\n",
    "            flag=True\n",
    "            break\n",
    "    else:\n",
    "        prime.append(num)\n",
    "print('The list of prime numbers up to 50:',prime)"
   ]
  },
  {
   "cell_type": "markdown",
   "id": "0ec3f88c",
   "metadata": {},
   "source": [
    "34. Split a list into chunks of size `n`."
   ]
  },
  {
   "cell_type": "code",
   "execution_count": 6,
   "id": "402e2125",
   "metadata": {},
   "outputs": [
    {
     "name": "stdout",
     "output_type": "stream",
     "text": [
      "Enter a size for split:3\n",
      "The splitted lists are:\n",
      "[1, 2, 3]\n",
      "[4, 5, 6]\n",
      "[7, 8, 9]\n"
     ]
    }
   ],
   "source": [
    "num_list=[1,2,3,4,5,6,7,8,9]\n",
    "n=int(input('Enter a size for split:'))\n",
    "print('The splitted lists are:')\n",
    "for i in range(0,len(num_list),n):\n",
    "    print(num_list[i:i+n])"
   ]
  },
  {
   "cell_type": "markdown",
   "id": "d4fb8ac7",
   "metadata": {},
   "source": [
    "35. Find the second largest number in a list."
   ]
  },
  {
   "cell_type": "code",
   "execution_count": 106,
   "id": "376a4cec",
   "metadata": {},
   "outputs": [
    {
     "name": "stdout",
     "output_type": "stream",
     "text": [
      "The original list: [10, 11, 12, 13, 14, 15, 17, 16, 18, 20]\n",
      "The second largest number in this list: 18\n"
     ]
    }
   ],
   "source": [
    "list1=[10,11,12,13,14,15,17,16,18,20]\n",
    "print('The original list:',list1)\n",
    "new_list=[]\n",
    "list1.remove(max(list1))\n",
    "for i in list1:\n",
    "    new_list.append(i)\n",
    "print('The second largest number in this list:',max(new_list))"
   ]
  },
  {
   "cell_type": "markdown",
   "id": "b69de15a",
   "metadata": {},
   "source": [
    "36. Replace every element in a list with its square."
   ]
  },
  {
   "cell_type": "code",
   "execution_count": 36,
   "id": "c159bb4d",
   "metadata": {},
   "outputs": [
    {
     "name": "stdout",
     "output_type": "stream",
     "text": [
      "After replacing every element with its square in a list is  [4, 9, 16, 25, 36]\n"
     ]
    }
   ],
   "source": [
    "list1=[2,3,4,5,6]\n",
    "for x in range(len(list1)):\n",
    "    list1[x]=list1[x]**2\n",
    "print('After replacing every element with its square in a list is ',list1)"
   ]
  },
  {
   "cell_type": "markdown",
   "id": "08ecf8b1",
   "metadata": {},
   "source": [
    "37. Convert a list to a dictionary where list elements become keys and their\n",
    "indices become values."
   ]
  },
  {
   "cell_type": "code",
   "execution_count": 8,
   "id": "8587c7f5",
   "metadata": {},
   "outputs": [
    {
     "name": "stdout",
     "output_type": "stream",
     "text": [
      "The original list: [10, 11, 12, 13, 14]\n",
      "After converting a list into a dictionary: {10: 0, 11: 1, 12: 2, 13: 3, 14: 4}\n"
     ]
    }
   ],
   "source": [
    "num=[10,11,12,13,14]\n",
    "dict={}\n",
    "for i in num:\n",
    "    dict.update({i:num.index(i)})\n",
    "print('The original list:',num)\n",
    "print('After converting a list into a dictionary:',dict)"
   ]
  },
  {
   "cell_type": "markdown",
   "id": "a9ad9eb3",
   "metadata": {},
   "source": [
    "38. Shuffle the elements of a list randomly."
   ]
  },
  {
   "cell_type": "code",
   "execution_count": 9,
   "id": "091600eb",
   "metadata": {},
   "outputs": [
    {
     "name": "stdout",
     "output_type": "stream",
     "text": [
      "The shuffled list: [3, 2, 9, 4, 0, 56, 1, 67, 45]\n"
     ]
    }
   ],
   "source": [
    "from random import shuffle\n",
    "num_list=[1,2,3,56,67,4,45,9,0]\n",
    "shuffle(num_list)\n",
    "print('The shuffled list:',num_list)"
   ]
  },
  {
   "cell_type": "markdown",
   "id": "bdfcc00b",
   "metadata": {},
   "source": [
    "39. Create a list of the first 10 factorial numbers."
   ]
  },
  {
   "cell_type": "code",
   "execution_count": 2,
   "id": "b6054f7d",
   "metadata": {},
   "outputs": [
    {
     "name": "stdout",
     "output_type": "stream",
     "text": [
      "The first 10 factorial numbers are: [1, 2, 6, 24, 120, 720, 5040, 40320, 362880, 3628800]\n"
     ]
    }
   ],
   "source": [
    "fact_num=[]\n",
    "for num in range(1,11):\n",
    "    mul=1\n",
    "    for x in range(num,1,-1):\n",
    "        mul*=x\n",
    "    fact_num.append(mul)\n",
    "print('The first 10 factorial numbers are:',fact_num)"
   ]
  },
  {
   "cell_type": "markdown",
   "id": "155fdac5",
   "metadata": {},
   "source": [
    "40. Check if two lists have at least one element in common."
   ]
  },
  {
   "cell_type": "code",
   "execution_count": 15,
   "id": "f37443e8",
   "metadata": {},
   "outputs": [
    {
     "name": "stdout",
     "output_type": "stream",
     "text": [
      "Atleast one element is common\n"
     ]
    }
   ],
   "source": [
    "l1=[10,11,12,13,14,15]\n",
    "l2=[15,16,17,18]\n",
    "l3=[]\n",
    "for i in l1:\n",
    "    if i in l2:\n",
    "        l3.append(i)\n",
    "\n",
    "if len(l3)!=0:\n",
    "    print('Atleast one element is common')\n",
    "else:\n",
    "    print('No element is common')"
   ]
  },
  {
   "cell_type": "markdown",
   "id": "63c16cb0",
   "metadata": {},
   "source": [
    "41. Remove all elements from a list."
   ]
  },
  {
   "cell_type": "code",
   "execution_count": 3,
   "id": "4501c879",
   "metadata": {},
   "outputs": [
    {
     "name": "stdout",
     "output_type": "stream",
     "text": [
      "After removing all elements from a list: []\n"
     ]
    }
   ],
   "source": [
    "lst=[1,2,3,46,543,4567,65432,34,54,3212,345]\n",
    "lst.clear()\n",
    "print('After removing all elements from a list:',lst)"
   ]
  },
  {
   "cell_type": "markdown",
   "id": "b94d7c31",
   "metadata": {},
   "source": [
    "42. Replace negative numbers in a list with 0."
   ]
  },
  {
   "cell_type": "code",
   "execution_count": 16,
   "id": "512c8af7",
   "metadata": {},
   "outputs": [
    {
     "name": "stdout",
     "output_type": "stream",
     "text": [
      "The original list: [1, 2, 3, 4, 5, -1, 6, -5]\n",
      "After replacing negative number with 0 the list: [1, 2, 3, 4, 5, 0, 6, 0]\n"
     ]
    }
   ],
   "source": [
    "num=[1,2,3,4,5,-1,6,-5]\n",
    "print('The original list:',num)\n",
    "for i in range(len(num)):\n",
    "    if num[i]<0:\n",
    "        num[i]=0\n",
    "print('After replacing negative number with 0 the list:',num)"
   ]
  },
  {
   "cell_type": "markdown",
   "id": "983b2e45",
   "metadata": {},
   "source": [
    "43. Convert a string into a list of words."
   ]
  },
  {
   "cell_type": "code",
   "execution_count": 107,
   "id": "8e381e8a",
   "metadata": {},
   "outputs": [
    {
     "name": "stdout",
     "output_type": "stream",
     "text": [
      "After converting string into list the list: ['This', 'is', 'an', 'example', 'of', 'a', 'string', 'converted', 'to', 'the', 'list', 'of', 'words']\n"
     ]
    }
   ],
   "source": [
    "string='This is an example of a string converted to the list of words'\n",
    "lst=string.split()\n",
    "print('After converting string into list the list:',lst)"
   ]
  },
  {
   "cell_type": "markdown",
   "id": "fa843ced",
   "metadata": {},
   "source": [
    "44. Convert a list of words into a string."
   ]
  },
  {
   "cell_type": "code",
   "execution_count": 108,
   "id": "b9931eaf",
   "metadata": {},
   "outputs": [
    {
     "name": "stdout",
     "output_type": "stream",
     "text": [
      "After converting list into string: Hello My name is khan\n"
     ]
    }
   ],
   "source": [
    "lst=['Hello','My','name','is','khan']\n",
    "string=' '\n",
    "string=string.join(lst)\n",
    "print('After converting list into string:',string)"
   ]
  },
  {
   "cell_type": "markdown",
   "id": "ca38de17",
   "metadata": {},
   "source": [
    "45. Create a list of the first `n` powers of 2."
   ]
  },
  {
   "cell_type": "code",
   "execution_count": 109,
   "id": "14fcd455",
   "metadata": {},
   "outputs": [
    {
     "name": "stdout",
     "output_type": "stream",
     "text": [
      "Enter the value of n5\n",
      "List of first 5 powers of 2 are: [1, 4, 9, 16, 25]\n"
     ]
    }
   ],
   "source": [
    "n=int(input('Enter the value of n'))\n",
    "num=[num**2 for num in range(1,n+1)]\n",
    "print(f'List of first {n} powers of 2 are:',num)    "
   ]
  },
  {
   "cell_type": "markdown",
   "id": "acb86a07",
   "metadata": {},
   "source": [
    "46. Find the longest string in a list of strings."
   ]
  },
  {
   "cell_type": "code",
   "execution_count": 112,
   "id": "be62c991",
   "metadata": {},
   "outputs": [
    {
     "name": "stdout",
     "output_type": "stream",
     "text": [
      "The longest string in this list: pineapple\n"
     ]
    }
   ],
   "source": [
    "fruits=['apple','banana','cherry','orange','mango','pineapple','kiwi']\n",
    "longest_str=''\n",
    "for word in fruits:\n",
    "    if len(word)>len(longest_str):\n",
    "        longest_str=word\n",
    "print('The longest string in this list:',longest_str)"
   ]
  },
  {
   "cell_type": "markdown",
   "id": "9e46fa7a",
   "metadata": {},
   "source": [
    "47. Find the shortest string in a list of strings."
   ]
  },
  {
   "cell_type": "code",
   "execution_count": null,
   "id": "4f13a1a2",
   "metadata": {},
   "outputs": [],
   "source": [
    "fruits=['apple','banana','cherry','orange','mango','pineapple','kiwi']\n",
    "shortest_str=fruits[0]\n",
    "for word in fruits:\n",
    "    if len(word)<len(shortest_str):\n",
    "        shortest_str=word\n",
    "print('The shortest string in this list:',shortest_str)"
   ]
  },
  {
   "cell_type": "markdown",
   "id": "e353fc37",
   "metadata": {},
   "source": [
    "48. Create a list of the first `n` triangular numbers."
   ]
  },
  {
   "cell_type": "code",
   "execution_count": 17,
   "id": "134f419a",
   "metadata": {},
   "outputs": [
    {
     "name": "stdout",
     "output_type": "stream",
     "text": [
      "Enter a number to get n number of triangular list:5\n",
      "The list of 5 triangular list: [1, 3, 6, 10, 15]\n"
     ]
    }
   ],
   "source": [
    "num=int(input('Enter a number to get n number of triangular list:'))\n",
    "num_list=[n*(n+1)//2 for n in range(1,num+1)]\n",
    "print(f'The list of {num} triangular list: {num_list}')"
   ]
  },
  {
   "cell_type": "markdown",
   "id": "73a7da57",
   "metadata": {},
   "source": [
    "49. Check if a list contains another list as a subsequence."
   ]
  },
  {
   "cell_type": "code",
   "execution_count": 22,
   "id": "5969bcfb",
   "metadata": {},
   "outputs": [
    {
     "name": "stdout",
     "output_type": "stream",
     "text": [
      "A list contains another list as subsequence\n"
     ]
    }
   ],
   "source": [
    "def is_sub_sequence(mainlist,subseq):\n",
    "    subseq_index=0\n",
    "    for element in mainlist:\n",
    "        if element==subseq[subseq_index]:\n",
    "            subseq_index+=1\n",
    "            if subseq_index==len(subseq):\n",
    "                return True\n",
    "    return False\n",
    "\n",
    "main_list=[1,2,3,4,5,6,7,8,9,10]\n",
    "sub_seq=[2,4,6]\n",
    "\n",
    "if is_sub_sequence(main_list,sub_seq):\n",
    "    print('A list contains another list as subsequence')\n",
    "else:\n",
    "    print('A list doesnot contain another list as subsequence')\n"
   ]
  },
  {
   "cell_type": "markdown",
   "id": "4b3013e6",
   "metadata": {},
   "source": [
    "50. Swap two elements in a list by their indices."
   ]
  },
  {
   "cell_type": "code",
   "execution_count": 21,
   "id": "24176472",
   "metadata": {},
   "outputs": [
    {
     "name": "stdout",
     "output_type": "stream",
     "text": [
      "Enter first index number:0\n",
      "Enter  index number:3\n",
      "The list after swapping indices are: [4, 2, 3, 1, 5]\n"
     ]
    }
   ],
   "source": [
    "num=[1,2,3,4,5]\n",
    "index1=int(input('Enter first index number:'))\n",
    "index2=int(input('Enter  index number:'))\n",
    "\n",
    "if 0<=index1<len(num) and 0<=index2<len(num):\n",
    "    for i in range(len(num)):\n",
    "        num[index1], num[index2] = num[index2], num[index1]\n",
    "    print('The list after swapping indices are:',num)\n",
    "else:\n",
    "    print('index out of bound')"
   ]
  },
  {
   "cell_type": "markdown",
   "id": "9c0c6fb8",
   "metadata": {},
   "source": [
    "# Tuple Based Practice Problem :"
   ]
  },
  {
   "cell_type": "markdown",
   "id": "3780c8ff",
   "metadata": {},
   "source": [
    "1. Create a tuple with integers from 1 to 5."
   ]
  },
  {
   "cell_type": "code",
   "execution_count": 6,
   "id": "48d95cf1",
   "metadata": {},
   "outputs": [
    {
     "name": "stdout",
     "output_type": "stream",
     "text": [
      "A tuple from 1 to 5 are: (1, 2, 3, 4, 5)\n"
     ]
    }
   ],
   "source": [
    "num=tuple((x for x in range(1,6)))\n",
    "print('A tuple from 1 to 5 are:',num)"
   ]
  },
  {
   "cell_type": "markdown",
   "id": "c486aede",
   "metadata": {},
   "source": [
    "2. Access the third element of a tuple."
   ]
  },
  {
   "cell_type": "code",
   "execution_count": 8,
   "id": "ca94c4d1",
   "metadata": {},
   "outputs": [
    {
     "name": "stdout",
     "output_type": "stream",
     "text": [
      "The third element from tuple: 3\n"
     ]
    }
   ],
   "source": [
    "num=(1,2,3,4,5,6)\n",
    "print('The third element from tuple:',num[2])"
   ]
  },
  {
   "cell_type": "markdown",
   "id": "b24a35e6",
   "metadata": {},
   "source": [
    "3. Find the length of a tuple without using the `len()` function."
   ]
  },
  {
   "cell_type": "code",
   "execution_count": 9,
   "id": "d06d95dd",
   "metadata": {},
   "outputs": [
    {
     "name": "stdout",
     "output_type": "stream",
     "text": [
      "The length of the tuple is 5\n"
     ]
    }
   ],
   "source": [
    "fruits=('apple','banana','cherry','orange','mango')\n",
    "count=0\n",
    "for i in fruits:\n",
    "    count+=1\n",
    "print('The length of the tuple is',count)"
   ]
  },
  {
   "cell_type": "markdown",
   "id": "0b2d20c5",
   "metadata": {},
   "source": [
    "4. Count the occurrences of an element in a tuple."
   ]
  },
  {
   "cell_type": "code",
   "execution_count": 2,
   "id": "b035f5fc",
   "metadata": {},
   "outputs": [
    {
     "name": "stdout",
     "output_type": "stream",
     "text": [
      "Enter an element to find: 30\n",
      "The occurance of 30 in this tuple: 4\n"
     ]
    }
   ],
   "source": [
    "tup=(10,20,30,40,30,50,60,30,30)\n",
    "ele=int(input('Enter an element to find: '))\n",
    "count=tup.count(ele)\n",
    "\n",
    "print(f'The occurance of {ele} in this tuple:',count)"
   ]
  },
  {
   "cell_type": "markdown",
   "id": "da937682",
   "metadata": {},
   "source": [
    "5. Find the index of the first occurrence of an element in a tuple."
   ]
  },
  {
   "cell_type": "code",
   "execution_count": 4,
   "id": "9b62e6b8",
   "metadata": {},
   "outputs": [
    {
     "name": "stdout",
     "output_type": "stream",
     "text": [
      "Enter an element to find its first occurance: 32\n",
      "The first index if 32 in this tuple: 4\n"
     ]
    }
   ],
   "source": [
    "tup=(10,13,15,67,32,90,45,13,15,32)\n",
    "ele=int(input('Enter an element to find its first occurance: '))\n",
    "first_index=tup.index(ele)\n",
    "\n",
    "print(f'The first index if {ele} in this tuple:',first_index)"
   ]
  },
  {
   "cell_type": "markdown",
   "id": "7ef33c12",
   "metadata": {},
   "source": [
    "6. Check if an element exists in a tuple."
   ]
  },
  {
   "cell_type": "code",
   "execution_count": null,
   "id": "aa524050",
   "metadata": {},
   "outputs": [],
   "source": [
    "tup=(10,13,15,67,32,90,45,13,15,32)\n",
    "ele=int(input('Enter an element to check: '))\n",
    "if ele in tup:\n",
    "    print(f'{ele} exist in tuple.')\n",
    "else:\n",
    "    print(f'{}')"
   ]
  },
  {
   "cell_type": "markdown",
   "id": "084c8980",
   "metadata": {},
   "source": [
    "7. Convert a tuple to a list."
   ]
  },
  {
   "cell_type": "code",
   "execution_count": 11,
   "id": "19cc4555",
   "metadata": {},
   "outputs": [
    {
     "name": "stdout",
     "output_type": "stream",
     "text": [
      "After converting from tuple to list: [1, 2, 3, 4, 5, 7, 8, 9, 12, 112]\n"
     ]
    }
   ],
   "source": [
    "num=(1,2,3,4,5,7,8,9,12,112)\n",
    "print('After converting from tuple to list:',list(num))"
   ]
  },
  {
   "cell_type": "markdown",
   "id": "46c6b770",
   "metadata": {},
   "source": [
    "8. Convert a list to a tuple."
   ]
  },
  {
   "cell_type": "code",
   "execution_count": 12,
   "id": "d2cf9d5d",
   "metadata": {},
   "outputs": [
    {
     "name": "stdout",
     "output_type": "stream",
     "text": [
      "After converting list to tuple: ('pw', 'pwskills', 'kris naik', 'sudhansu kumar', 'ioi')\n"
     ]
    }
   ],
   "source": [
    "name=['pw','pwskills','kris naik','sudhansu kumar','ioi']\n",
    "print('After converting list to tuple:',tuple(name))"
   ]
  },
  {
   "cell_type": "markdown",
   "id": "c4c3e994",
   "metadata": {},
   "source": [
    "9. Unpack the elements of a tuple into variables."
   ]
  },
  {
   "cell_type": "code",
   "execution_count": 14,
   "id": "697ecee3",
   "metadata": {},
   "outputs": [
    {
     "name": "stdout",
     "output_type": "stream",
     "text": [
      "After unpacking list elements\n",
      "green = apple\n",
      "yellow = banana\n",
      "red = cherry\n"
     ]
    }
   ],
   "source": [
    "fruits=('apple','banana','cherry')\n",
    "(green,yellow,red)=fruits\n",
    "print('After unpacking list elements')\n",
    "print('green =',green)\n",
    "print('yellow =',yellow)\n",
    "print('red =',red)"
   ]
  },
  {
   "cell_type": "markdown",
   "id": "7212f4a8",
   "metadata": {},
   "source": [
    "10. Create a tuple of even numbers from 1 to 10."
   ]
  },
  {
   "cell_type": "code",
   "execution_count": 17,
   "id": "cb23307d",
   "metadata": {},
   "outputs": [
    {
     "name": "stdout",
     "output_type": "stream",
     "text": [
      "The tuple containing even from 1 to 10 are: (2, 4, 6, 8, 10)\n"
     ]
    }
   ],
   "source": [
    "num=tuple((x for x in range(1,11) if x%2==0))\n",
    "print('The tuple containing even from 1 to 10 are:',num)"
   ]
  },
  {
   "cell_type": "markdown",
   "id": "c93c0126",
   "metadata": {},
   "source": [
    "11. Create a tuple of odd numbers from 1 to 10."
   ]
  },
  {
   "cell_type": "code",
   "execution_count": 18,
   "id": "9d808bff",
   "metadata": {},
   "outputs": [
    {
     "name": "stdout",
     "output_type": "stream",
     "text": [
      "The tuple containing odd from 1 to 10 are: (1, 3, 5, 7, 9)\n"
     ]
    }
   ],
   "source": [
    "num=tuple((x for x in range(1,11) if x%2!=0))\n",
    "print('The tuple containing odd from 1 to 10 are:',num)"
   ]
  },
  {
   "cell_type": "markdown",
   "id": "dd94ca75",
   "metadata": {},
   "source": [
    "12. Concatenate two tuples."
   ]
  },
  {
   "cell_type": "code",
   "execution_count": 19,
   "id": "74c45fec",
   "metadata": {},
   "outputs": [
    {
     "name": "stdout",
     "output_type": "stream",
     "text": [
      "After concating two tuples: (1, 2, 3, 4, 5, 6, 7, 8, 9, 10)\n"
     ]
    }
   ],
   "source": [
    "tup1=(1,2,3,4,5)\n",
    "tup2=(6,7,8,9,10)\n",
    "tup3=tup1+tup2\n",
    "print('After concating two tuples:',tup3)"
   ]
  },
  {
   "cell_type": "markdown",
   "id": "9a467100",
   "metadata": {},
   "source": [
    "13. Repeat a tuple three times."
   ]
  },
  {
   "cell_type": "code",
   "execution_count": 22,
   "id": "b2e545d0",
   "metadata": {},
   "outputs": [
    {
     "name": "stdout",
     "output_type": "stream",
     "text": [
      "repeating a tuple three times (12, 13, 14, 15, 12, 13, 14, 15, 12, 13, 14, 15)\n"
     ]
    }
   ],
   "source": [
    "tup=(12,13,14,15)\n",
    "print('repeating a tuple three times',tup*3)"
   ]
  },
  {
   "cell_type": "markdown",
   "id": "6295d4b1",
   "metadata": {},
   "source": [
    "14. Check if a tuple is empty."
   ]
  },
  {
   "cell_type": "code",
   "execution_count": 25,
   "id": "253d63c1",
   "metadata": {},
   "outputs": [
    {
     "name": "stdout",
     "output_type": "stream",
     "text": [
      "tuple is empty\n"
     ]
    }
   ],
   "source": [
    "tup=()\n",
    "if tup==():\n",
    "    print('tuple is empty')"
   ]
  },
  {
   "cell_type": "markdown",
   "id": "1e4af727",
   "metadata": {},
   "source": [
    "15. Create a nested tuple."
   ]
  },
  {
   "cell_type": "code",
   "execution_count": 11,
   "id": "a23d97ff",
   "metadata": {},
   "outputs": [
    {
     "name": "stdout",
     "output_type": "stream",
     "text": [
      "The first tuple is:  ((1, 2, 3),)\n",
      "The second tuple is:  ((4, 5, 6),)\n",
      "The resulted tuple is:  ((1, 2, 3), (4, 5, 6))\n"
     ]
    }
   ],
   "source": [
    "tup1=(1,2,3),\n",
    "tup2=(4,5,6),\n",
    "print('The first tuple is: ',str(tup1))\n",
    "print('The second tuple is: ',str(tup2))\n",
    "res=tup1+tup2\n",
    "print('The resulted tuple is: ',str(res))"
   ]
  },
  {
   "cell_type": "markdown",
   "id": "1425f960",
   "metadata": {},
   "source": [
    "16. Access the first element of a nested tuple."
   ]
  },
  {
   "cell_type": "code",
   "execution_count": 13,
   "id": "e111db5b",
   "metadata": {},
   "outputs": [
    {
     "name": "stdout",
     "output_type": "stream",
     "text": [
      "The original tuple:  ((1, 2, 3), (4, 5, 6), ('Pw', 'Skills'))\n",
      "The first element of a nested tuple is:  (1, 2, 3)\n"
     ]
    }
   ],
   "source": [
    "tup=((1,2,3),(4,5,6),('Pw','Skills'))\n",
    "print('The original tuple: ',tup)\n",
    "print('The first element of a nested tuple is: ',tup[0])"
   ]
  },
  {
   "cell_type": "markdown",
   "id": "4d79d8ac",
   "metadata": {},
   "source": [
    "17. Create a tuple with a single element."
   ]
  },
  {
   "cell_type": "code",
   "execution_count": 15,
   "id": "2080b47d",
   "metadata": {},
   "outputs": [
    {
     "name": "stdout",
     "output_type": "stream",
     "text": [
      "The tuple with single element:  ('hello',)\n"
     ]
    }
   ],
   "source": [
    "tup=('hello',)\n",
    "print('The tuple with single element: ',tup)"
   ]
  },
  {
   "cell_type": "markdown",
   "id": "6797424f",
   "metadata": {},
   "source": [
    "18. Compare two tuples."
   ]
  },
  {
   "cell_type": "code",
   "execution_count": 16,
   "id": "6e2d14b5",
   "metadata": {},
   "outputs": [
    {
     "name": "stdout",
     "output_type": "stream",
     "text": [
      "tup1==tup2:  False\n",
      "tup1!=tup2:  True\n",
      "tup1<tup2:  True\n",
      "tup1<=tup2:  True\n",
      "tup1>tup2:  False\n",
      "tup1>=tup2:  False\n"
     ]
    }
   ],
   "source": [
    "tup1=(2,4,6)\n",
    "tup2=(4,9,16)\n",
    "print('tup1==tup2: ',tup1==tup2)\n",
    "print('tup1!=tup2: ',tup1!=tup2)\n",
    "print('tup1<tup2: ',tup1<tup2)\n",
    "print('tup1<=tup2: ',tup1<=tup2)\n",
    "print('tup1>tup2: ',tup1>tup2)\n",
    "print('tup1>=tup2: ',tup1>=tup2)"
   ]
  },
  {
   "cell_type": "markdown",
   "id": "a3d69a36",
   "metadata": {},
   "source": [
    "19. Delete a tuple."
   ]
  },
  {
   "cell_type": "code",
   "execution_count": 17,
   "id": "8e73eba3",
   "metadata": {},
   "outputs": [
    {
     "name": "stdout",
     "output_type": "stream",
     "text": [
      "The tuple: (1, 2, 3)\n"
     ]
    },
    {
     "ename": "NameError",
     "evalue": "name 'tup1' is not defined",
     "output_type": "error",
     "traceback": [
      "\u001b[1;31m---------------------------------------------------------------------------\u001b[0m",
      "\u001b[1;31mNameError\u001b[0m                                 Traceback (most recent call last)",
      "Input \u001b[1;32mIn [17]\u001b[0m, in \u001b[0;36m<cell line: 4>\u001b[1;34m()\u001b[0m\n\u001b[0;32m      2\u001b[0m \u001b[38;5;28mprint\u001b[39m(\u001b[38;5;124m'\u001b[39m\u001b[38;5;124mThe tuple:\u001b[39m\u001b[38;5;124m'\u001b[39m,tup1)\n\u001b[0;32m      3\u001b[0m \u001b[38;5;28;01mdel\u001b[39;00m tup1\n\u001b[1;32m----> 4\u001b[0m \u001b[38;5;28mprint\u001b[39m(\u001b[43mtup1\u001b[49m)\n",
      "\u001b[1;31mNameError\u001b[0m: name 'tup1' is not defined"
     ]
    }
   ],
   "source": [
    "tup1=(1,2,3)\n",
    "print('The tuple:',tup1)\n",
    "del tup1\n",
    "print(tup1)"
   ]
  },
  {
   "cell_type": "markdown",
   "id": "29dca5b7",
   "metadata": {},
   "source": [
    "20. Slice a tuple."
   ]
  },
  {
   "cell_type": "code",
   "execution_count": 18,
   "id": "257e3265",
   "metadata": {},
   "outputs": [
    {
     "name": "stdout",
     "output_type": "stream",
     "text": [
      "The original tuple is : (1, 2, 3, 4, 5, 6, 7, 8, 9, 10)\n",
      "The sliced tuple is : (3, 4, 5, 6, 7)\n"
     ]
    }
   ],
   "source": [
    "tup=(1,2,3,4,5,6,7,8,9,10)\n",
    "sliced_tup=tup[2:7]\n",
    "print('The original tuple is :',tup)\n",
    "print('The sliced tuple is :',sliced_tup)"
   ]
  },
  {
   "cell_type": "markdown",
   "id": "0eebb62c",
   "metadata": {},
   "source": [
    "21. Find the maximum value in a tuple."
   ]
  },
  {
   "cell_type": "code",
   "execution_count": 1,
   "id": "6cef58e7",
   "metadata": {},
   "outputs": [
    {
     "name": "stdout",
     "output_type": "stream",
     "text": [
      "The max value in a tuple is 67\n"
     ]
    }
   ],
   "source": [
    "tup=(11,12,14,2,45,67)\n",
    "print('The max value in a tuple is',max(tup))"
   ]
  },
  {
   "cell_type": "markdown",
   "id": "c822942a",
   "metadata": {},
   "source": [
    "22. Find the minimum value in a tuple."
   ]
  },
  {
   "cell_type": "code",
   "execution_count": 2,
   "id": "71e2d3a8",
   "metadata": {},
   "outputs": [
    {
     "name": "stdout",
     "output_type": "stream",
     "text": [
      "The min value in a tuple is 10\n"
     ]
    }
   ],
   "source": [
    "tup=(10,23,56,22,78)\n",
    "print('The min value in a tuple is',min(tup))"
   ]
  },
  {
   "cell_type": "markdown",
   "id": "45f6ddfe",
   "metadata": {},
   "source": [
    "23. Convert a string to a tuple of characters."
   ]
  },
  {
   "cell_type": "code",
   "execution_count": 20,
   "id": "ad6fa684",
   "metadata": {},
   "outputs": [
    {
     "name": "stdout",
     "output_type": "stream",
     "text": [
      "The original string: I am a boy\n",
      "The converted string into tuple: ('I', 'am', 'a', 'boy')\n"
     ]
    }
   ],
   "source": [
    "string='I am a boy'\n",
    "tup=string.split()\n",
    "print('The original string:',string)\n",
    "print('The converted string into tuple:',tuple(tup))"
   ]
  },
  {
   "cell_type": "markdown",
   "id": "de2f5395",
   "metadata": {},
   "source": [
    "24. Convert a tuple of characters to a string."
   ]
  },
  {
   "cell_type": "code",
   "execution_count": 21,
   "id": "055dff28",
   "metadata": {},
   "outputs": [
    {
     "name": "stdout",
     "output_type": "stream",
     "text": [
      "The original string: ('I', 'am', 'a', 'boy')\n",
      "After converting tuple into string: I am a boy\n"
     ]
    }
   ],
   "source": [
    "tup=('I', 'am', 'a', 'boy')\n",
    "string=' '.join(tup)\n",
    "print('The original string:',tup)\n",
    "print('After converting tuple into string:',string)"
   ]
  },
  {
   "cell_type": "markdown",
   "id": "969cf543",
   "metadata": {},
   "source": [
    "25. Create a tuple from multiple data types."
   ]
  },
  {
   "cell_type": "code",
   "execution_count": 22,
   "id": "9ec9a31b",
   "metadata": {},
   "outputs": [
    {
     "name": "stdout",
     "output_type": "stream",
     "text": [
      "A tuple with multiple data types: (1, 'Pw', 3.14, False)\n"
     ]
    }
   ],
   "source": [
    "tup=(1,'Pw',3.14,False)\n",
    "print('A tuple with multiple data types:',tup)"
   ]
  },
  {
   "cell_type": "markdown",
   "id": "f0a04a90",
   "metadata": {},
   "source": [
    "26. Check if two tuples are identical."
   ]
  },
  {
   "cell_type": "code",
   "execution_count": 24,
   "id": "9089e64e",
   "metadata": {},
   "outputs": [
    {
     "name": "stdout",
     "output_type": "stream",
     "text": [
      "tuple1 and tuple2 are identical: False\n",
      "tuple1 and tuple3 are identical: True\n"
     ]
    }
   ],
   "source": [
    "tup1=(1,2,3)\n",
    "tup2=(1,2,4)\n",
    "tup3=(1,2,3)\n",
    "is_identical1=tup1==tup2\n",
    "is_identical2=tup1==tup3\n",
    "print('tuple1 and tuple2 are identical:',is_identical1)\n",
    "print('tuple1 and tuple3 are identical:',is_identical2)"
   ]
  },
  {
   "cell_type": "markdown",
   "id": "7baa9f38",
   "metadata": {},
   "source": [
    "27. Sort the elements of a tuple."
   ]
  },
  {
   "cell_type": "code",
   "execution_count": 7,
   "id": "f9be96b6",
   "metadata": {},
   "outputs": [
    {
     "name": "stdout",
     "output_type": "stream",
     "text": [
      "The sorted tuple is (1, 4, 12, 23, 39, 78, 90, 124, 3211)\n"
     ]
    }
   ],
   "source": [
    "tup=(12,23,1,124,39,3211,78,90,4)\n",
    "print('The sorted tuple is',tuple(sorted(tup)))"
   ]
  },
  {
   "cell_type": "markdown",
   "id": "a390f327",
   "metadata": {},
   "source": [
    "28. Convert a tuple of integers to a tuple of strings."
   ]
  },
  {
   "cell_type": "code",
   "execution_count": 26,
   "id": "75ed7520",
   "metadata": {},
   "outputs": [
    {
     "name": "stdout",
     "output_type": "stream",
     "text": [
      "After convert a tuple of integers to a tuple of strings: ('1', '2', '3', '4', '5', '6', '7', '8')\n"
     ]
    }
   ],
   "source": [
    "tup=(1,2,3,4,5,6,7,8)\n",
    "tuple_str=tuple(str(item) for item in tup)\n",
    "print('After convert a tuple of integers to a tuple of strings:',tuple_str)"
   ]
  },
  {
   "cell_type": "markdown",
   "id": "89abaa6f",
   "metadata": {},
   "source": [
    "29. Convert a tuple of strings to a tuple of integers."
   ]
  },
  {
   "cell_type": "code",
   "execution_count": 27,
   "id": "ec16f9ca",
   "metadata": {},
   "outputs": [
    {
     "name": "stdout",
     "output_type": "stream",
     "text": [
      "After convert a tuple of string to a tuple of integers: (1, 2, 3, 4, 5, 6, 7, 8)\n"
     ]
    }
   ],
   "source": [
    "tup=('1', '2', '3', '4', '5', '6', '7', '8')\n",
    "tup_int=tuple(int(item) for item in tup)\n",
    "print('After convert a tuple of string to a tuple of integers:',tup_int)"
   ]
  },
  {
   "cell_type": "markdown",
   "id": "b4fed20c",
   "metadata": {},
   "source": [
    "30. Merge two tuples."
   ]
  },
  {
   "cell_type": "code",
   "execution_count": 9,
   "id": "b8abc8a6",
   "metadata": {},
   "outputs": [
    {
     "name": "stdout",
     "output_type": "stream",
     "text": [
      "After merging two tuples: ('pw', 'pwskills', 'sudhansu', 'kumar', 'kris', 'naik')\n"
     ]
    }
   ],
   "source": [
    "tup1=('pw','pwskills')\n",
    "tup2=('sudhansu','kumar','kris','naik')\n",
    "tup_merge=tup1+tup2\n",
    "print('After merging two tuples:',tup_merge)"
   ]
  },
  {
   "cell_type": "markdown",
   "id": "4caf8f84",
   "metadata": {},
   "source": [
    "31. Flatten a nested tuple."
   ]
  },
  {
   "cell_type": "code",
   "execution_count": 14,
   "id": "b9f527e8",
   "metadata": {},
   "outputs": [
    {
     "name": "stdout",
     "output_type": "stream",
     "text": [
      "The flatten tuple: (12, 23, 36, 20, 51, 40, 200, 240, 100)\n"
     ]
    }
   ],
   "source": [
    "tup = ((12, 23, 36), (20, 51, 40), (200, 240, 100))\n",
    "flat_tup=(num for sub_tup in tup for num in sub_tup)\n",
    "print('The flatten tuple:',tuple(flat_tup))"
   ]
  },
  {
   "cell_type": "markdown",
   "id": "6f38c1e1",
   "metadata": {},
   "source": [
    "32. Create a tuple of the first 5 prime numbers."
   ]
  },
  {
   "cell_type": "code",
   "execution_count": 53,
   "id": "41d6cb11",
   "metadata": {},
   "outputs": [
    {
     "name": "stdout",
     "output_type": "stream",
     "text": [
      "The tuple of first 5 prime numbers are: (2, 3, 5, 7, 11)\n"
     ]
    }
   ],
   "source": [
    "flag=False\n",
    "prime=[]\n",
    "for i in range(2,20):\n",
    "    for num in range(2,i):\n",
    "        if i%num==0:\n",
    "            flag=True\n",
    "            break\n",
    "    else:\n",
    "        prime.append(i)\n",
    "print('The tuple of first 5 prime numbers are:',tuple(prime[:5]))"
   ]
  },
  {
   "cell_type": "markdown",
   "id": "f9157b04",
   "metadata": {},
   "source": [
    "33. Check if a tuple is a palindrome."
   ]
  },
  {
   "cell_type": "code",
   "execution_count": 30,
   "id": "51d4dfd4",
   "metadata": {},
   "outputs": [
    {
     "name": "stdout",
     "output_type": "stream",
     "text": [
      "The tuple is: (1, 2, 3, 2, 1)\n",
      "Tuple is palindrome\n"
     ]
    }
   ],
   "source": [
    "tup=(1,2,3,2,1)\n",
    "print('The tuple is:',tup)\n",
    "if tup==tup[::-1]:\n",
    "    print('Tuple is palindrome')\n",
    "else:\n",
    "    print('Tuple is not palindrome')"
   ]
  },
  {
   "cell_type": "markdown",
   "id": "61ed5529",
   "metadata": {},
   "source": [
    "34. Create a tuple of squares of numbers from 1 to 5."
   ]
  },
  {
   "cell_type": "code",
   "execution_count": 21,
   "id": "6a510038",
   "metadata": {},
   "outputs": [
    {
     "name": "stdout",
     "output_type": "stream",
     "text": [
      "A tuple of squares of numbers from 1 to 5 are (1, 4, 9, 16, 25)\n"
     ]
    }
   ],
   "source": [
    "tup=tuple(num**2 for num in range(1,6) )\n",
    "print('A tuple of squares of numbers from 1 to 5 are',tup)"
   ]
  },
  {
   "cell_type": "markdown",
   "id": "5ea5c7ad",
   "metadata": {},
   "source": [
    "35. Filter out all even numbers from a tuple."
   ]
  },
  {
   "cell_type": "code",
   "execution_count": 22,
   "id": "584235b2",
   "metadata": {},
   "outputs": [
    {
     "name": "stdout",
     "output_type": "stream",
     "text": [
      "After filtering out all even numbers from a tuple the tuple is (22, 34, 44, 26, 124, 3456)\n"
     ]
    }
   ],
   "source": [
    "tup=(11,13,345,22,34,67,89,44,26,124,2345,3456)\n",
    "even_tup=tuple(num for num in tup if num%2==0)\n",
    "print('After filtering out all even numbers from a tuple the tuple is',even_tup)"
   ]
  },
  {
   "cell_type": "markdown",
   "id": "c66e30f1",
   "metadata": {},
   "source": [
    "36. Multiply all elements in a tuple by 2."
   ]
  },
  {
   "cell_type": "code",
   "execution_count": 23,
   "id": "622251e1",
   "metadata": {},
   "outputs": [
    {
     "name": "stdout",
     "output_type": "stream",
     "text": [
      "Updated tuple after multiplying all elements by 2: (24, 46, 90, 134, 172, 88, 180, 468, 22, 196)\n"
     ]
    }
   ],
   "source": [
    "tup=(12,23,45,67,86,44,90,234,11,98)\n",
    "new_tup=tuple(num*2 for num in tup)\n",
    "print('Updated tuple after multiplying all elements by 2:',new_tup)"
   ]
  },
  {
   "cell_type": "markdown",
   "id": "4f996a03",
   "metadata": {},
   "source": [
    "37. Create a tuple of random numbers."
   ]
  },
  {
   "cell_type": "code",
   "execution_count": 24,
   "id": "5a29e914",
   "metadata": {},
   "outputs": [
    {
     "name": "stdout",
     "output_type": "stream",
     "text": [
      "A tuple of random numbers are: (89, 685, 408, 85, 341, 363, 782, 128, 868, 677)\n"
     ]
    }
   ],
   "source": [
    "from random import randint\n",
    "tup=tuple(randint(1,1000) for num in range(10))\n",
    "print('A tuple of random numbers are:',tup)"
   ]
  },
  {
   "cell_type": "markdown",
   "id": "edb2a1b2",
   "metadata": {},
   "source": [
    "38. Check if a tuple is sorted."
   ]
  },
  {
   "cell_type": "code",
   "execution_count": 31,
   "id": "901b2de0",
   "metadata": {},
   "outputs": [
    {
     "name": "stdout",
     "output_type": "stream",
     "text": [
      "The tup1 is sorted: True\n",
      "The tup2 is sorted: False\n"
     ]
    }
   ],
   "source": [
    "def sort_tup(tup):\n",
    "    for i in range(len(tup)-1):\n",
    "        if tup[i]>tup[i+1]:\n",
    "            return False\n",
    "    return True\n",
    "\n",
    "tup1=(1,2,3,4,5)\n",
    "tup2=(2,3,1,7,4)\n",
    "\n",
    "print('The tup1 is sorted:',sort_tup(tup1))\n",
    "print('The tup2 is sorted:',sort_tup(tup2))"
   ]
  },
  {
   "cell_type": "markdown",
   "id": "4ee2814a",
   "metadata": {},
   "source": [
    "39. Rotate a tuple to the left by `n` positions."
   ]
  },
  {
   "cell_type": "code",
   "execution_count": 32,
   "id": "7876fe1e",
   "metadata": {},
   "outputs": [
    {
     "name": "stdout",
     "output_type": "stream",
     "text": [
      "Enter a number for left rotation:3\n",
      "The rotated tuple by 3 to the left: (4, 5, 1, 2, 3)\n"
     ]
    }
   ],
   "source": [
    "tup=(1,2,3,4,5)\n",
    "n=int(input('Enter a number for left rotation:'))\n",
    "n=n%len(tup)\n",
    "\n",
    "rotated_tup=tup[n:]+tup[:n]\n",
    "print(f'The rotated tuple by {n} to the left: {rotated_tup}')"
   ]
  },
  {
   "cell_type": "markdown",
   "id": "1d00c01d",
   "metadata": {},
   "source": [
    "40. Rotate a tuple to the right by `n` positions."
   ]
  },
  {
   "cell_type": "code",
   "execution_count": 33,
   "id": "abd6965d",
   "metadata": {},
   "outputs": [
    {
     "name": "stdout",
     "output_type": "stream",
     "text": [
      "Enter a number for right rotation:2\n",
      "The rotated tuple by 2 to the right: (4, 5, 1, 2, 3)\n"
     ]
    }
   ],
   "source": [
    "tup=(1,2,3,4,5)\n",
    "n=int(input('Enter a number for right rotation:'))\n",
    "n=n%len(tup)\n",
    "\n",
    "rotated_tup=tup[-n:]+tup[:-n]\n",
    "print(f'The rotated tuple by {n} to the right: {rotated_tup}')"
   ]
  },
  {
   "cell_type": "markdown",
   "id": "fb651436",
   "metadata": {},
   "source": [
    "41. Create a tuple of the first 5 Fibonacci numbers."
   ]
  },
  {
   "cell_type": "code",
   "execution_count": 34,
   "id": "e0e6ec15",
   "metadata": {},
   "outputs": [
    {
     "name": "stdout",
     "output_type": "stream",
     "text": [
      "The first 5 fibonacci numbers in the tuple is: (0, 1, 1, 2, 3)\n"
     ]
    }
   ],
   "source": [
    "num1=0\n",
    "num2=1\n",
    "fib_tup=[0]\n",
    "for i in range(1,5):\n",
    "    num3=num1+num2\n",
    "    num1,num2=num2,num3\n",
    "    fib_tup.append(num1)\n",
    "print('The first 5 fibonacci numbers in the tuple is:',tuple(fib_tup))"
   ]
  },
  {
   "cell_type": "markdown",
   "id": "8273603e",
   "metadata": {},
   "source": [
    "42. Create a tuple from user input."
   ]
  },
  {
   "cell_type": "code",
   "execution_count": 25,
   "id": "b26bcff1",
   "metadata": {},
   "outputs": [
    {
     "name": "stdout",
     "output_type": "stream",
     "text": [
      "enter the number of element to be added to the tuple: 5\n",
      "1\n",
      "23\n",
      "232\n",
      "12\n",
      "67\n",
      "The tuple is (1, 23, 232, 12, 67)\n"
     ]
    }
   ],
   "source": [
    "tup=[]\n",
    "num=int(input('enter the number of element to be added to the tuple: '))\n",
    "for i in range(num):\n",
    "    ele=int(input())\n",
    "    tup.append(ele)\n",
    "print('The tuple is',tuple(tup))"
   ]
  },
  {
   "cell_type": "markdown",
   "id": "a730d2c9",
   "metadata": {},
   "source": [
    "43. Swap two elements in a tuple."
   ]
  },
  {
   "cell_type": "code",
   "execution_count": 35,
   "id": "6ac062a0",
   "metadata": {},
   "outputs": [
    {
     "name": "stdout",
     "output_type": "stream",
     "text": [
      "Enter index1:1\n",
      "Enter index2: 4\n",
      "Swapped tuple: (1, 5, 3, 4, 2)\n"
     ]
    }
   ],
   "source": [
    "tup=(1,2,3,4,5)\n",
    "tup=list(tup)\n",
    "index1=int(input('Enter index1:'))\n",
    "index2=int(input('Enter index2: '))\n",
    "if 0<=index1<len(tup) and 0<=index2<len(tup):\n",
    "    tup[index1],tup[index2]=tup[index2],tup[index1]\n",
    "else:\n",
    "    print('Index out of bound')\n",
    "\n",
    "print('Swapped tuple:',tuple(tup))"
   ]
  },
  {
   "cell_type": "markdown",
   "id": "c117e8e9",
   "metadata": {},
   "source": [
    "44. Reverse the elements of a tuple."
   ]
  },
  {
   "cell_type": "code",
   "execution_count": 26,
   "id": "8b46af59",
   "metadata": {},
   "outputs": [
    {
     "name": "stdout",
     "output_type": "stream",
     "text": [
      "After reversing elements the tuple is ('sahoo', 'brata', 'priya')\n"
     ]
    }
   ],
   "source": [
    "tup=('priya','brata','sahoo')\n",
    "print('After reversing elements the tuple is',tup[::-1])"
   ]
  },
  {
   "cell_type": "markdown",
   "id": "2e7ea442",
   "metadata": {},
   "source": [
    "45. Create a tuple of the first `n` powers of 2."
   ]
  },
  {
   "cell_type": "code",
   "execution_count": 36,
   "id": "08043bc7",
   "metadata": {},
   "outputs": [
    {
     "name": "stdout",
     "output_type": "stream",
     "text": [
      "Enter the value of n: 5\n",
      "The power of 2 tuple is: (1, 4, 9, 16, 25)\n"
     ]
    }
   ],
   "source": [
    "n=int(input('Enter the value of n: '))\n",
    "tup=tuple(item**2 for item in range(1,n+1))\n",
    "print('The power of 2 tuple is:',tup)"
   ]
  },
  {
   "cell_type": "markdown",
   "id": "41fac503",
   "metadata": {},
   "source": [
    "46. Find the longest string in a tuple of strings."
   ]
  },
  {
   "cell_type": "code",
   "execution_count": 37,
   "id": "c79e8b68",
   "metadata": {},
   "outputs": [
    {
     "name": "stdout",
     "output_type": "stream",
     "text": [
      "The longest string in this tuple: pineapple\n"
     ]
    }
   ],
   "source": [
    "tup=('apple','banana','cherry','mango','guava','kiwi','pineapple','orange')\n",
    "long_str=''\n",
    "for word in tup:\n",
    "    if len(word)>len(long_str):\n",
    "        long_str=word\n",
    "print('The longest string in this tuple:',long_str)"
   ]
  },
  {
   "cell_type": "markdown",
   "id": "84c09be9",
   "metadata": {},
   "source": [
    "47. Find the shortest string in a tuple of strings."
   ]
  },
  {
   "cell_type": "code",
   "execution_count": 38,
   "id": "7a25d7bb",
   "metadata": {},
   "outputs": [
    {
     "name": "stdout",
     "output_type": "stream",
     "text": [
      "The shortest string in this tuple: kiwi\n"
     ]
    }
   ],
   "source": [
    "tup=('apple','banana','cherry','mango','guava','kiwi','pineapple','orange')\n",
    "short_str=tup[0]\n",
    "for word in tup:\n",
    "    if len(word)<len(short_str):\n",
    "        short_str=word\n",
    "print('The shortest string in this tuple:',short_str)"
   ]
  },
  {
   "cell_type": "markdown",
   "id": "ee86812f",
   "metadata": {},
   "source": [
    "48. Create a tuple of the first `n` triangular numbers."
   ]
  },
  {
   "cell_type": "code",
   "execution_count": 50,
   "id": "466d66a7",
   "metadata": {},
   "outputs": [
    {
     "name": "stdout",
     "output_type": "stream",
     "text": [
      "Enter the number of triangular number required:5\n",
      "The tuple 5 triangular numbers: (1, 3, 6, 10, 15)\n"
     ]
    }
   ],
   "source": [
    "num=int(input('Enter the number of triangular number required:'))\n",
    "triangular_num=tuple((n)*(n+1)//2 for n in range(1,num+1))\n",
    "print(f'The tuple {num} triangular numbers:',triangular_num)"
   ]
  },
  {
   "cell_type": "markdown",
   "id": "b4f054bd",
   "metadata": {},
   "source": [
    "49. Check if a tuple contains another tuple as a subsequence."
   ]
  },
  {
   "cell_type": "code",
   "execution_count": 51,
   "id": "dc3dde8d",
   "metadata": {},
   "outputs": [
    {
     "name": "stdout",
     "output_type": "stream",
     "text": [
      "A tuple contains another tuple as subsequence\n"
     ]
    }
   ],
   "source": [
    "def is_subsequence(maintup,subseq):\n",
    "    subseq_index=0\n",
    "    for element in maintup:\n",
    "        if element==subseq[subseq_index]:\n",
    "            subseq_index+=1\n",
    "            if subseq_index==len(subseq):\n",
    "                return True\n",
    "    return False\n",
    "maintup=(1,2,3,4,5,6,7,8,9,10)\n",
    "sub_seq=(2,7,10)\n",
    "if is_subsequence(maintup,sub_seq):\n",
    "    print('A tuple contains another tuple as subsequence')\n",
    "else:\n",
    "    print('A tuple does not contain another tuple as subsequence')"
   ]
  },
  {
   "cell_type": "markdown",
   "id": "14d4dd84",
   "metadata": {},
   "source": [
    "50. Create a tuple of alternating 1s and 0s of length `n`."
   ]
  },
  {
   "cell_type": "code",
   "execution_count": 52,
   "id": "303a99fa",
   "metadata": {},
   "outputs": [
    {
     "name": "stdout",
     "output_type": "stream",
     "text": [
      "enter the length of tuple: 7\n",
      "The tuple of alternating 1s and 0s: (0, 1, 0, 1, 0, 1, 0)\n"
     ]
    }
   ],
   "source": [
    "n=int(input('enter the length of tuple: '))\n",
    "tup=tuple(i%2 for i in range(n))\n",
    "print('The tuple of alternating 1s and 0s:',tup)"
   ]
  },
  {
   "cell_type": "markdown",
   "id": "ad801980",
   "metadata": {},
   "source": [
    "# Set Based Practice Problem :"
   ]
  },
  {
   "cell_type": "markdown",
   "id": "add5b85f",
   "metadata": {},
   "source": [
    "1. Create a set with integers from 1 to 5."
   ]
  },
  {
   "cell_type": "code",
   "execution_count": 27,
   "id": "9adaf5e7",
   "metadata": {},
   "outputs": [
    {
     "name": "stdout",
     "output_type": "stream",
     "text": [
      "A set of from 1 to 5 is {1, 2, 3, 4, 5}\n"
     ]
    }
   ],
   "source": [
    "set1={num for num in range(1,6)}\n",
    "print('A set of from 1 to 5 is',set1)"
   ]
  },
  {
   "cell_type": "markdown",
   "id": "e740f3d9",
   "metadata": {},
   "source": [
    "2. Add an element to a set."
   ]
  },
  {
   "cell_type": "code",
   "execution_count": 1,
   "id": "4b263716",
   "metadata": {},
   "outputs": [
    {
     "name": "stdout",
     "output_type": "stream",
     "text": [
      "After adding element the updated set: {'cherry', 'pineapple', 'orange', 'apple', 'banana'}\n"
     ]
    }
   ],
   "source": [
    "fruits={'apple','banana','cherry','pineapple'}\n",
    "fruits.add('orange')\n",
    "print('After adding element the updated set:',fruits)"
   ]
  },
  {
   "cell_type": "markdown",
   "id": "d3e08b46",
   "metadata": {},
   "source": [
    "3. Remove an element from a set."
   ]
  },
  {
   "cell_type": "code",
   "execution_count": 2,
   "id": "cc0cacc0",
   "metadata": {},
   "outputs": [
    {
     "name": "stdout",
     "output_type": "stream",
     "text": [
      "After removing element the updated set: {'Audi', 'VW', 'Dacia', 'BMW'}\n"
     ]
    }
   ],
   "source": [
    "cars={'Audi','BMW','Chevrolet','Dacia','VW'}\n",
    "cars.remove('Chevrolet')\n",
    "print('After removing element the updated set:',cars)"
   ]
  },
  {
   "cell_type": "markdown",
   "id": "b940fab6",
   "metadata": {},
   "source": [
    "4. Check if an element exists in a set."
   ]
  },
  {
   "cell_type": "code",
   "execution_count": 6,
   "id": "d9d753d1",
   "metadata": {},
   "outputs": [
    {
     "name": "stdout",
     "output_type": "stream",
     "text": [
      "Enter an element for existance: eclipse\n",
      "eclipse exists\n"
     ]
    }
   ],
   "source": [
    "app={'jupyter','jetbrains','eclipse','turbo C','pycharm'}\n",
    "string=input('Enter an element for existance: ')\n",
    "if string in app:\n",
    "    print(string,'exists')\n",
    "else:\n",
    "    print(string,'doesnot exist')"
   ]
  },
  {
   "cell_type": "markdown",
   "id": "21770b5d",
   "metadata": {},
   "source": [
    "5. Find the length of a set without using the `len()` function."
   ]
  },
  {
   "cell_type": "code",
   "execution_count": 8,
   "id": "20de097c",
   "metadata": {},
   "outputs": [
    {
     "name": "stdout",
     "output_type": "stream",
     "text": [
      "The length of the set: 8\n"
     ]
    }
   ],
   "source": [
    "lang={'odia','english','hindi','tamil','telugu','malayalam','kannada','bengali'}\n",
    "count=0\n",
    "for i in lang:\n",
    "    count+=1\n",
    "print('The length of the set:',count)"
   ]
  },
  {
   "cell_type": "markdown",
   "id": "0b7baefc",
   "metadata": {},
   "source": [
    "6. Clear all elements from a set."
   ]
  },
  {
   "cell_type": "code",
   "execution_count": 9,
   "id": "ee4e6187",
   "metadata": {},
   "outputs": [
    {
     "name": "stdout",
     "output_type": "stream",
     "text": [
      "After clearing all elements from set: set()\n"
     ]
    }
   ],
   "source": [
    "appliance={'tv','fridge','washing machine','microwave','kitchen set'}\n",
    "appliance.clear()\n",
    "print('After clearing all elements from set:',appliance)"
   ]
  },
  {
   "cell_type": "markdown",
   "id": "61f3b65a",
   "metadata": {},
   "source": [
    "7. Create a set of even numbers from 1 to 10."
   ]
  },
  {
   "cell_type": "code",
   "execution_count": 10,
   "id": "92d7db3a",
   "metadata": {},
   "outputs": [
    {
     "name": "stdout",
     "output_type": "stream",
     "text": [
      "The set of even numbers are: {2, 4, 6, 8, 10}\n"
     ]
    }
   ],
   "source": [
    "even={x for x in range(1,11) if x%2==0}\n",
    "print('The set of even numbers are:',even)"
   ]
  },
  {
   "cell_type": "markdown",
   "id": "34baccd2",
   "metadata": {},
   "source": [
    "8. Create a set of odd numbers from 1 to 10."
   ]
  },
  {
   "cell_type": "code",
   "execution_count": 11,
   "id": "74f0ba0b",
   "metadata": {},
   "outputs": [
    {
     "name": "stdout",
     "output_type": "stream",
     "text": [
      "The set of odd numbers are: {1, 3, 5, 7, 9}\n"
     ]
    }
   ],
   "source": [
    "odd={x for x in range(1,11) if x%2!=0}\n",
    "print('The set of odd numbers are:',odd)"
   ]
  },
  {
   "cell_type": "markdown",
   "id": "ceb5f3bb",
   "metadata": {},
   "source": [
    "9. Find the union of two sets."
   ]
  },
  {
   "cell_type": "code",
   "execution_count": 1,
   "id": "13c81f77",
   "metadata": {},
   "outputs": [
    {
     "name": "stdout",
     "output_type": "stream",
     "text": [
      "The union of two sets: {'cherry', 'apple', 'microsoft', 'google', 'banana'}\n"
     ]
    }
   ],
   "source": [
    "fruit={'apple','banana','cherry'}\n",
    "company={'google','microsoft','apple'}\n",
    "res=fruit.union(company)\n",
    "print('The union of two sets:',res)"
   ]
  },
  {
   "cell_type": "markdown",
   "id": "62a31625",
   "metadata": {},
   "source": [
    "10. Find the intersection of two sets."
   ]
  },
  {
   "cell_type": "code",
   "execution_count": 2,
   "id": "f75e0edc",
   "metadata": {},
   "outputs": [
    {
     "name": "stdout",
     "output_type": "stream",
     "text": [
      "The intersection of two sets: {'apple'}\n"
     ]
    }
   ],
   "source": [
    "fruit={'apple','banana','cherry'}\n",
    "company={'google','microsoft','apple'}\n",
    "res=fruit.intersection(company)\n",
    "print('The intersection of two sets:',res)"
   ]
  },
  {
   "cell_type": "markdown",
   "id": "cf65c3d9",
   "metadata": {},
   "source": [
    "11. Find the difference between two sets."
   ]
  },
  {
   "cell_type": "code",
   "execution_count": 3,
   "id": "820a87cd",
   "metadata": {},
   "outputs": [
    {
     "name": "stdout",
     "output_type": "stream",
     "text": [
      "The difference between two sets: {'cherry', 'banana'}\n"
     ]
    }
   ],
   "source": [
    "fruit={'apple','banana','cherry'}\n",
    "company={'google','microsoft','apple'}\n",
    "res=fruit.difference(company)\n",
    "print('The difference between two sets:',res)"
   ]
  },
  {
   "cell_type": "markdown",
   "id": "7dcdd5c9",
   "metadata": {},
   "source": [
    "12. Check if a set is a subset of another set."
   ]
  },
  {
   "cell_type": "code",
   "execution_count": 4,
   "id": "b0b26195",
   "metadata": {},
   "outputs": [
    {
     "name": "stdout",
     "output_type": "stream",
     "text": [
      "A set is a subset of another set: True\n"
     ]
    }
   ],
   "source": [
    "num={1,2,3}\n",
    "num2={4,5,6,1,2,3,7,8}\n",
    "res=num.issubset(num2)\n",
    "print('A set is a subset of another set:',res)"
   ]
  },
  {
   "cell_type": "markdown",
   "id": "86e04c05",
   "metadata": {},
   "source": [
    "13. Check if a set is a superset of another set."
   ]
  },
  {
   "cell_type": "code",
   "execution_count": 5,
   "id": "9d5621c8",
   "metadata": {},
   "outputs": [
    {
     "name": "stdout",
     "output_type": "stream",
     "text": [
      "A set is a superset of another set: True\n"
     ]
    }
   ],
   "source": [
    "num={1,2,3}\n",
    "num2={4,5,6,1,2,3,7,8}\n",
    "res=num2.issuperset(num)\n",
    "print('A set is a superset of another set:',res)"
   ]
  },
  {
   "cell_type": "markdown",
   "id": "6fec746c",
   "metadata": {},
   "source": [
    "14. Create a set from a list."
   ]
  },
  {
   "cell_type": "code",
   "execution_count": 6,
   "id": "860d1ed3",
   "metadata": {},
   "outputs": [
    {
     "name": "stdout",
     "output_type": "stream",
     "text": [
      "After converting a set from list: {'samsung', 'apple', 'oneplus', 'oppo', 'vivo'}\n"
     ]
    }
   ],
   "source": [
    "num_list=['apple','samsung','oneplus','oppo','vivo']\n",
    "print('After converting a set from list:',set(num_list))"
   ]
  },
  {
   "cell_type": "markdown",
   "id": "2c05e1c6",
   "metadata": {},
   "source": [
    "15. Convert a set to a list."
   ]
  },
  {
   "cell_type": "code",
   "execution_count": 12,
   "id": "bb15df3f",
   "metadata": {},
   "outputs": [
    {
     "name": "stdout",
     "output_type": "stream",
     "text": [
      "After converting a set to a list ['samsung', 'vivo', 'oppo', 'oneplus', 'apple']\n"
     ]
    }
   ],
   "source": [
    "mobile={'apple','samsung','oneplus','oppo','vivo'}\n",
    "print('After converting a set to a list',list(mobile))"
   ]
  },
  {
   "cell_type": "markdown",
   "id": "18475794",
   "metadata": {},
   "source": [
    "16. Remove a random element from a set."
   ]
  },
  {
   "cell_type": "code",
   "execution_count": 16,
   "id": "dd6fd0df",
   "metadata": {},
   "outputs": [
    {
     "name": "stdout",
     "output_type": "stream",
     "text": [
      "After removing random element: {'vivo', 'oppo', 'oneplus', 'apple'}\n"
     ]
    }
   ],
   "source": [
    "mobile={'apple','samsung','oneplus','oppo','vivo'}\n",
    "mobile.pop()\n",
    "print('After removing random element:',mobile)"
   ]
  },
  {
   "cell_type": "markdown",
   "id": "5341e8ee",
   "metadata": {},
   "source": [
    "17. Pop an element from a set."
   ]
  },
  {
   "cell_type": "code",
   "execution_count": 7,
   "id": "569e5c87",
   "metadata": {},
   "outputs": [
    {
     "name": "stdout",
     "output_type": "stream",
     "text": [
      "After a popping an element: {2, 3, 4, 5}\n"
     ]
    }
   ],
   "source": [
    "num={1,2,3,4,5}\n",
    "res=num.pop()\n",
    "print('After a popping an element:',num)"
   ]
  },
  {
   "cell_type": "markdown",
   "id": "e3e19573",
   "metadata": {},
   "source": [
    "18. Check if two sets have no elements in common."
   ]
  },
  {
   "cell_type": "code",
   "execution_count": 10,
   "id": "fb1bd0c2",
   "metadata": {},
   "outputs": [
    {
     "name": "stdout",
     "output_type": "stream",
     "text": [
      "No elements are common in the sets\n"
     ]
    }
   ],
   "source": [
    "num1={2,4,6,8,10,12,14,16}\n",
    "num2={3,5,7,9,11}\n",
    "res=num1.intersection(num2)\n",
    "if not res:\n",
    "    print('No elements are common in the sets')\n",
    "else:\n",
    "    print('elements are common in the sets')"
   ]
  },
  {
   "cell_type": "markdown",
   "id": "a2f8948e",
   "metadata": {},
   "source": [
    "19. Find the symmetric difference between two sets."
   ]
  },
  {
   "cell_type": "code",
   "execution_count": 11,
   "id": "38d8d950",
   "metadata": {},
   "outputs": [
    {
     "name": "stdout",
     "output_type": "stream",
     "text": [
      "The symmetric difference between two sets: {'cherry', 'banana', 'microsoft', 'google'}\n"
     ]
    }
   ],
   "source": [
    "fruit={'apple','banana','cherry'}\n",
    "company={'google','microsoft','apple'}\n",
    "res=fruit.symmetric_difference(company)\n",
    "print('The symmetric difference between two sets:',res)"
   ]
  },
  {
   "cell_type": "markdown",
   "id": "c7ac3634",
   "metadata": {},
   "source": [
    "20. Update a set with elements from another set."
   ]
  },
  {
   "cell_type": "code",
   "execution_count": 12,
   "id": "8b557759",
   "metadata": {},
   "outputs": [
    {
     "name": "stdout",
     "output_type": "stream",
     "text": [
      "After updating a set with another set: {'cherry', 'apple', 'microsoft', 'google', 'banana'}\n"
     ]
    }
   ],
   "source": [
    "fruit={'apple','banana','cherry'}\n",
    "company={'google','microsoft','apple'}\n",
    "fruit.update(company)\n",
    "print('After updating a set with another set:',fruit)"
   ]
  },
  {
   "cell_type": "markdown",
   "id": "6ce44ada",
   "metadata": {},
   "source": [
    "21. Create a set of the first 5 prime numbers."
   ]
  },
  {
   "cell_type": "code",
   "execution_count": 13,
   "id": "57d8534a",
   "metadata": {},
   "outputs": [
    {
     "name": "stdout",
     "output_type": "stream",
     "text": [
      "The first five numbers in a set: {2, 3, 5, 7, 11}\n"
     ]
    }
   ],
   "source": [
    "flag=False\n",
    "prime=[]\n",
    "num=20\n",
    "for i in range(2,num):\n",
    "    for j in range(2,i):\n",
    "        if i%j==0:\n",
    "            flag=True\n",
    "            break\n",
    "    else:\n",
    "        prime.append(i)\n",
    "\n",
    "print('The first five numbers in a set:',set(prime[:5]))"
   ]
  },
  {
   "cell_type": "markdown",
   "id": "8e0bb939",
   "metadata": {},
   "source": [
    "22. Check if two sets are identical."
   ]
  },
  {
   "cell_type": "code",
   "execution_count": 14,
   "id": "1c5fa3e9",
   "metadata": {},
   "outputs": [
    {
     "name": "stdout",
     "output_type": "stream",
     "text": [
      "Two sets are identical\n"
     ]
    }
   ],
   "source": [
    "set1={1,2,3,4,5}\n",
    "set2={2,3,1,4,5}\n",
    "if set1==set2:\n",
    "    print('Two sets are identical')\n",
    "else:\n",
    "    print('Two set are not identical')"
   ]
  },
  {
   "cell_type": "markdown",
   "id": "ec6ec975",
   "metadata": {},
   "source": [
    "23. Create a frozen set."
   ]
  },
  {
   "cell_type": "code",
   "execution_count": 15,
   "id": "44cd789c",
   "metadata": {},
   "outputs": [
    {
     "name": "stdout",
     "output_type": "stream",
     "text": [
      "The frozen set: frozenset({8, 2, 4, 6})\n"
     ]
    }
   ],
   "source": [
    "num={2,4,6,8}\n",
    "froz_set=frozenset(num)\n",
    "print('The frozen set:',froz_set)"
   ]
  },
  {
   "cell_type": "markdown",
   "id": "b15af9db",
   "metadata": {},
   "source": [
    "24. Check if a set is disjoint with another set."
   ]
  },
  {
   "cell_type": "code",
   "execution_count": 17,
   "id": "9db7e609",
   "metadata": {},
   "outputs": [
    {
     "name": "stdout",
     "output_type": "stream",
     "text": [
      "A set is disjoint with another set: True\n"
     ]
    }
   ],
   "source": [
    "fruit={'apple','banana','cherry'}\n",
    "company={'google','microsoft','fb'}\n",
    "res=fruit.isdisjoint(company)\n",
    "print('A set is disjoint with another set:',res)"
   ]
  },
  {
   "cell_type": "markdown",
   "id": "cd9b720a",
   "metadata": {},
   "source": [
    "25. Create a set of squares of numbers from 1 to 5."
   ]
  },
  {
   "cell_type": "code",
   "execution_count": 17,
   "id": "edda1298",
   "metadata": {},
   "outputs": [
    {
     "name": "stdout",
     "output_type": "stream",
     "text": [
      "The original set: {1, 2, 3, 4, 5}\n",
      "The set of squares from 1 to 5: {1, 4, 9, 16, 25}\n"
     ]
    }
   ],
   "source": [
    "original_set={x for x in range(1,6)}\n",
    "print('The original set:',original_set)\n",
    "square_set={x**2 for x in range(1,6)}\n",
    "print('The set of squares from 1 to 5:',square_set)"
   ]
  },
  {
   "cell_type": "markdown",
   "id": "8430c732",
   "metadata": {},
   "source": [
    "26. Filter out all even numbers from a set."
   ]
  },
  {
   "cell_type": "code",
   "execution_count": 19,
   "id": "6e0ae4f8",
   "metadata": {},
   "outputs": [
    {
     "name": "stdout",
     "output_type": "stream",
     "text": [
      "The original set: {1, 2, 3, 4, 5, 6, 7, 8, 9, 10, 11, 12, 13, 14, 15, 16, 17, 18, 19, 20, 21, 22, 23, 24, 25, 26, 27, 28, 29, 30}\n",
      "The filtered even set is: {2, 4, 6, 8, 10, 12, 14, 16, 18, 20, 22, 24, 26, 28, 30}\n"
     ]
    }
   ],
   "source": [
    "num_set={x for x in range(1,31)}\n",
    "print('The original set:',num_set)\n",
    "even_set={num for num in num_set if num%2==0}\n",
    "print('The filtered even set is:',even_set)"
   ]
  },
  {
   "cell_type": "markdown",
   "id": "69477826",
   "metadata": {},
   "source": [
    "27. Multiply all elements in a set by 2."
   ]
  },
  {
   "cell_type": "code",
   "execution_count": 20,
   "id": "f8180603",
   "metadata": {},
   "outputs": [
    {
     "name": "stdout",
     "output_type": "stream",
     "text": [
      "The original set: {1, 2, 3, 4, 5}\n",
      "The multipled set: {2, 4, 6, 8, 10}\n"
     ]
    }
   ],
   "source": [
    "num_set={1,2,3,4,5}\n",
    "print('The original set:',num_set)\n",
    "multiplied_set={x*2 for x in num_set}\n",
    "print('The multipled set:',multiplied_set)"
   ]
  },
  {
   "cell_type": "markdown",
   "id": "01dc1836",
   "metadata": {},
   "source": [
    "28. Create a set of random numbers."
   ]
  },
  {
   "cell_type": "code",
   "execution_count": 22,
   "id": "f50fb03e",
   "metadata": {},
   "outputs": [
    {
     "name": "stdout",
     "output_type": "stream",
     "text": [
      "A set of random numbers are: {1, 197, 40, 138, 139, 17, 241, 51, 20, 253}\n"
     ]
    }
   ],
   "source": [
    "from random import randint\n",
    "num_set={randint(1,300) for num in range(10)}\n",
    "print('A set of random numbers are:',num_set)"
   ]
  },
  {
   "cell_type": "markdown",
   "id": "10381afc",
   "metadata": {},
   "source": [
    "29. Check if a set is empty."
   ]
  },
  {
   "cell_type": "code",
   "execution_count": 28,
   "id": "9e4bc885",
   "metadata": {},
   "outputs": [
    {
     "name": "stdout",
     "output_type": "stream",
     "text": [
      "The original set: {1, 2, 3}\n",
      "The set is not empty\n",
      "The original set: set()\n",
      "The set is empty\n"
     ]
    }
   ],
   "source": [
    "num_set1={1,2,3}\n",
    "print('The original set:',num_set1)\n",
    "if num_set1==set():\n",
    "    print('The set is empty')\n",
    "else:\n",
    "    print('The set is not empty')\n",
    "num_set2=set()\n",
    "print('The original set:',num_set2)\n",
    "if num_set2==set():\n",
    "    print('The set is empty')\n",
    "else:\n",
    "    print('The set is not empty')"
   ]
  },
  {
   "cell_type": "markdown",
   "id": "83eb6852",
   "metadata": {},
   "source": [
    "30. Create a nested set (hint: use frozenset)."
   ]
  },
  {
   "cell_type": "code",
   "execution_count": 18,
   "id": "7b777375",
   "metadata": {},
   "outputs": [
    {
     "name": "stdout",
     "output_type": "stream",
     "text": [
      "The nested set: {frozenset({1, 2, 3, 4, 5}), frozenset({5, 6, 7, 8, 9, 10})}\n"
     ]
    }
   ],
   "source": [
    "set1={1,2,3,4,5}\n",
    "set2={5,6,7,8,9,10}\n",
    "froz_set1=frozenset(set1)\n",
    "froz_set2=frozenset(set2)\n",
    "nest_set={froz_set1,froz_set2}\n",
    "print('The nested set:',nest_set)"
   ]
  },
  {
   "cell_type": "markdown",
   "id": "6920618b",
   "metadata": {},
   "source": [
    "31. Remove an element from a set using the discard method."
   ]
  },
  {
   "cell_type": "code",
   "execution_count": 31,
   "id": "ee107dba",
   "metadata": {},
   "outputs": [
    {
     "name": "stdout",
     "output_type": "stream",
     "text": [
      "The original set: {1, 2, 3, 4, 5}\n",
      "After discarding 3 the set is {1, 2, 4, 5}\n"
     ]
    }
   ],
   "source": [
    "num_set={1,2,3,4,5}\n",
    "print('The original set:',num_set)\n",
    "discarded_element=3\n",
    "num_set.discard(discarded_element)\n",
    "print(f'After discarding {discarded_element} the set is {num_set}')"
   ]
  },
  {
   "cell_type": "markdown",
   "id": "328c4bfd",
   "metadata": {},
   "source": [
    "32. Compare two sets."
   ]
  },
  {
   "cell_type": "code",
   "execution_count": 22,
   "id": "1d7502fd",
   "metadata": {},
   "outputs": [
    {
     "name": "stdout",
     "output_type": "stream",
     "text": [
      "Set 1: {1, 2, 3, 4, 5, 6}\n",
      "Set 2: {5, 6, 7, 8, 9, 10}\n",
      "Is set1 a subset of set2? False\n",
      "Is set2 a subset of set1? False\n",
      "Union: {1, 2, 3, 4, 5, 6, 7, 8, 9, 10}\n",
      "Intersection: {5, 6}\n",
      "Elements in set1 but not in set2: {1, 2, 3, 4}\n",
      "Elements in set2 but not in set1: {8, 9, 10, 7}\n"
     ]
    }
   ],
   "source": [
    "set1={1,2,3,4,5,6}\n",
    "set2={5,6,7,8,9,10}\n",
    "is_subset=set1.issubset(set2)\n",
    "is_superset=set1.issuperset(set2)\n",
    "union=set1.union(set2)\n",
    "intersection=set1.intersection(set2)\n",
    "diff1=set1.difference(set2)\n",
    "diff2=set2.difference(set1)\n",
    "print(\"Set 1:\", set1)\n",
    "print(\"Set 2:\", set2)\n",
    "print(\"Is set1 a subset of set2?\", is_subset)\n",
    "print(\"Is set2 a subset of set1?\", is_superset)\n",
    "print(\"Union:\", union)\n",
    "print(\"Intersection:\", intersection)\n",
    "print(\"Elements in set1 but not in set2:\", diff1)\n",
    "print(\"Elements in set2 but not in set1:\", diff2)"
   ]
  },
  {
   "cell_type": "markdown",
   "id": "19f993f1",
   "metadata": {},
   "source": [
    "33. Create a set from a string."
   ]
  },
  {
   "cell_type": "code",
   "execution_count": 21,
   "id": "43c35739",
   "metadata": {},
   "outputs": [
    {
     "name": "stdout",
     "output_type": "stream",
     "text": [
      "The set from a string: {'i', 'l', 'P', 'w', 's', 'k'}\n"
     ]
    }
   ],
   "source": [
    "string='Pwskills'\n",
    "print('The set from a string:',set(string))"
   ]
  },
  {
   "cell_type": "markdown",
   "id": "52b16ebb",
   "metadata": {},
   "source": [
    "34. Convert a set of strings to a set of integers."
   ]
  },
  {
   "cell_type": "code",
   "execution_count": 33,
   "id": "740bcf0c",
   "metadata": {},
   "outputs": [
    {
     "name": "stdout",
     "output_type": "stream",
     "text": [
      "The set of strings: {'4', '1', '2', '5', '3'}\n",
      "The set of integers: {1, 2, 3, 4, 5}\n"
     ]
    }
   ],
   "source": [
    "str_set={'1','2','3','4','5'}\n",
    "num_set=set()\n",
    "for num in str_set:\n",
    "    num_set.add(int(num))\n",
    "print('The set of strings:',str_set)\n",
    "print('The set of integers:',num_set)"
   ]
  },
  {
   "cell_type": "markdown",
   "id": "b26e722c",
   "metadata": {},
   "source": [
    "35. Convert a set of integers to a set of strings."
   ]
  },
  {
   "cell_type": "code",
   "execution_count": 32,
   "id": "a6b733f6",
   "metadata": {},
   "outputs": [
    {
     "name": "stdout",
     "output_type": "stream",
     "text": [
      "The set of integers: {1, 2, 3, 4, 5}\n",
      "The set of strings: {'4', '2', '1', '5', '3'}\n"
     ]
    }
   ],
   "source": [
    "num_set={1,2,3,4,5}\n",
    "str_set=set()\n",
    "for num in num_set:\n",
    "    str_set.add(str(num))\n",
    "print('The set of integers:',num_set)\n",
    "print('The set of strings:',str_set)"
   ]
  },
  {
   "cell_type": "markdown",
   "id": "1d698717",
   "metadata": {},
   "source": [
    "36. Create a set from a tuple."
   ]
  },
  {
   "cell_type": "code",
   "execution_count": 24,
   "id": "70319c19",
   "metadata": {},
   "outputs": [
    {
     "name": "stdout",
     "output_type": "stream",
     "text": [
      "The set from tuple: {1, 'Pwskills', 'Hello'}\n"
     ]
    }
   ],
   "source": [
    "tup=('Hello','Pwskills',1)\n",
    "print('The set from tuple:',set(tup))"
   ]
  },
  {
   "cell_type": "markdown",
   "id": "8e3b0488",
   "metadata": {},
   "source": [
    "37. Convert a set to a tuple."
   ]
  },
  {
   "cell_type": "code",
   "execution_count": 25,
   "id": "b095bd1d",
   "metadata": {},
   "outputs": [
    {
     "name": "stdout",
     "output_type": "stream",
     "text": [
      "Convertion of a set to tuple: (1, 2, 3, 4, 5, 6, 7, 8)\n"
     ]
    }
   ],
   "source": [
    "num={1,2,3,4,5,6,7,8}\n",
    "print('Convertion of a set to tuple:',tuple(num))"
   ]
  },
  {
   "cell_type": "markdown",
   "id": "583f8f7b",
   "metadata": {},
   "source": [
    "38. Find the maximum value in a set."
   ]
  },
  {
   "cell_type": "code",
   "execution_count": 34,
   "id": "5d441792",
   "metadata": {},
   "outputs": [
    {
     "name": "stdout",
     "output_type": "stream",
     "text": [
      "The original set: {67, 72, 73, 77, 16, 53, 57, 58, 91, 60}\n",
      "The maximum num in a set: 91\n"
     ]
    }
   ],
   "source": [
    "from random import randint\n",
    "num_set={randint(1,100) for num in range(10)}\n",
    "print('The original set:',num_set)\n",
    "print('The maximum num in a set:',max(num_set))"
   ]
  },
  {
   "cell_type": "markdown",
   "id": "ace95427",
   "metadata": {},
   "source": [
    "39. Find the minimum value in a set."
   ]
  },
  {
   "cell_type": "code",
   "execution_count": 35,
   "id": "bf429073",
   "metadata": {},
   "outputs": [
    {
     "name": "stdout",
     "output_type": "stream",
     "text": [
      "The original set: {26, 100, 90, 4, 6, 36, 78, 82, 58, 95}\n",
      "The minimum num in a set: 4\n"
     ]
    }
   ],
   "source": [
    "from random import randint\n",
    "num_set={randint(1,100) for num in range(10)}\n",
    "print('The original set:',num_set)\n",
    "print('The minimum num in a set:',min(num_set))"
   ]
  },
  {
   "cell_type": "markdown",
   "id": "489f257c",
   "metadata": {},
   "source": [
    "40. Create a set from user input."
   ]
  },
  {
   "cell_type": "code",
   "execution_count": 36,
   "id": "f36a3f50",
   "metadata": {},
   "outputs": [
    {
     "name": "stdout",
     "output_type": "stream",
     "text": [
      "enter the number of element to be added to the set5\n",
      "pw\n",
      "pwskills\n",
      "sudhansu\n",
      "kumar\n",
      "kris\n",
      "The set after taking user input: {'kris', 'pwskills', 'pw', 'sudhansu', 'kumar'}\n"
     ]
    }
   ],
   "source": [
    "user_set=set()\n",
    "num=int(input('enter the number of element to be added to the set'))\n",
    "for i in range(num):\n",
    "    ele=input()\n",
    "    user_set.add(ele)\n",
    "print('The set after taking user input:',user_set)"
   ]
  },
  {
   "cell_type": "markdown",
   "id": "c3c8ca0c",
   "metadata": {},
   "source": [
    "41. Check if the intersection of two sets is empty."
   ]
  },
  {
   "cell_type": "code",
   "execution_count": 27,
   "id": "dcb5a0fb",
   "metadata": {},
   "outputs": [
    {
     "name": "stdout",
     "output_type": "stream",
     "text": [
      "The intersection of two sets is empty\n"
     ]
    }
   ],
   "source": [
    "set1={1,2,3,4,5}\n",
    "set2={6,7,8,9,10}\n",
    "res=set1.intersection(set2)\n",
    "if not res:\n",
    "    print('The intersection of two sets is empty')\n",
    "else:\n",
    "    print('The intersection of two sets is not empty')"
   ]
  },
  {
   "cell_type": "markdown",
   "id": "cb3c040f",
   "metadata": {},
   "source": [
    "42. Create a set of the first 5 Fibonacci numbers."
   ]
  },
  {
   "cell_type": "code",
   "execution_count": 31,
   "id": "7a043774",
   "metadata": {},
   "outputs": [
    {
     "name": "stdout",
     "output_type": "stream",
     "text": [
      "The fibonacci series of first 5 numbers: {0, 1, 2, 3, 5}\n"
     ]
    }
   ],
   "source": [
    "fib_ser={0}\n",
    "num1=0\n",
    "num2=1\n",
    "for i in range(1,6):\n",
    "    num3=num1+num2\n",
    "    num1,num2=num2,num3\n",
    "    fib_ser.add(num1)\n",
    "print('The fibonacci series of first 5 numbers:',fib_ser)"
   ]
  },
  {
   "cell_type": "markdown",
   "id": "1e750f41",
   "metadata": {},
   "source": [
    "43. Remove duplicates from a list using sets."
   ]
  },
  {
   "cell_type": "code",
   "execution_count": 32,
   "id": "807cad91",
   "metadata": {},
   "outputs": [
    {
     "name": "stdout",
     "output_type": "stream",
     "text": [
      "The original set: [1, 2, 3, 2, 4, 5, 6, 7, 5, 6, 2, 3, 8, 9, 1, 2]\n",
      "After removing duplicates: [1, 2, 3, 4, 5, 6, 7, 8, 9]\n"
     ]
    }
   ],
   "source": [
    "num=[1,2,3,2,4,5,6,7,5,6,2,3,8,9,1,2]\n",
    "num_set=set(num)\n",
    "new_num=list(num_set)\n",
    "print('The original set:',num)\n",
    "print('After removing duplicates:',new_num)"
   ]
  },
  {
   "cell_type": "markdown",
   "id": "0d087774",
   "metadata": {},
   "source": [
    "44. Check if two sets have the same elements, regardless of their count."
   ]
  },
  {
   "cell_type": "code",
   "execution_count": 36,
   "id": "5fca467f",
   "metadata": {},
   "outputs": [
    {
     "name": "stdout",
     "output_type": "stream",
     "text": [
      "two sets have same elements\n"
     ]
    }
   ],
   "source": [
    "set1={1,2,3,2,1,2}\n",
    "set2={3,2,1}\n",
    "if set1==set2:\n",
    "    print('two sets have same elements')\n",
    "else:\n",
    "    print('two sets dont have same elements')"
   ]
  },
  {
   "cell_type": "markdown",
   "id": "94d8412d",
   "metadata": {},
   "source": [
    "45. Create a set of the first `n` powers of 2."
   ]
  },
  {
   "cell_type": "code",
   "execution_count": 41,
   "id": "52e548a5",
   "metadata": {},
   "outputs": [
    {
     "name": "stdout",
     "output_type": "stream",
     "text": [
      "Enter the length of the set:5\n",
      "a set of the first 5 powers of 2: {1, 4, 9, 16, 25}\n"
     ]
    }
   ],
   "source": [
    "n=int(input('Enter the length of the set:'))\n",
    "power_set=set(num**2 for num in range(1,n+1))\n",
    "print(f'a set of the first {n} powers of 2: {power_set}')"
   ]
  },
  {
   "cell_type": "markdown",
   "id": "3b8fac8d",
   "metadata": {},
   "source": [
    "46. Find the common elements between a set and a list."
   ]
  },
  {
   "cell_type": "code",
   "execution_count": 43,
   "id": "35ec6e19",
   "metadata": {},
   "outputs": [
    {
     "name": "stdout",
     "output_type": "stream",
     "text": [
      "The common element between a set and a list: [3, 4]\n"
     ]
    }
   ],
   "source": [
    "num_set={1,2,3,4,5}\n",
    "num_list=[3,4,6,7,8]\n",
    "common=[]\n",
    "for i in num_set:\n",
    "    if i in num_list:\n",
    "        common.append(i)\n",
    "print('The common element between a set and a list:',common)"
   ]
  },
  {
   "cell_type": "markdown",
   "id": "d4164f24",
   "metadata": {},
   "source": [
    "47. Create a set of the first `n` triangular numbers."
   ]
  },
  {
   "cell_type": "code",
   "execution_count": 47,
   "id": "94280441",
   "metadata": {},
   "outputs": [
    {
     "name": "stdout",
     "output_type": "stream",
     "text": [
      "Enter the length of a set:5\n",
      "a set of the first 5 set: {1, 3, 6, 10, 15}\n"
     ]
    }
   ],
   "source": [
    "n=int(input('Enter the length of a set:'))\n",
    "tri_set=set(num*(num+1)//2 for num in range(1,n+1))\n",
    "print(f'a set of the first {n} set: {tri_set}')"
   ]
  },
  {
   "cell_type": "markdown",
   "id": "1387a957",
   "metadata": {},
   "source": [
    "48. Check if a set contains another set as a subset."
   ]
  },
  {
   "cell_type": "code",
   "execution_count": 49,
   "id": "e803375c",
   "metadata": {},
   "outputs": [
    {
     "name": "stdout",
     "output_type": "stream",
     "text": [
      "set1 is a subset of set2\n"
     ]
    }
   ],
   "source": [
    "set1={1,2,3,4}\n",
    "set2={1,2,3,4,5,6,7,8}\n",
    "res=set1.issubset(set2)\n",
    "if res:\n",
    "    print('set1 is a subset of set2')\n",
    "else:\n",
    "    print('set1 is not a subset of set2')"
   ]
  },
  {
   "cell_type": "markdown",
   "id": "427c6e70",
   "metadata": {},
   "source": [
    "49. Create a set of alternating 1s and 0s of length `n`."
   ]
  },
  {
   "cell_type": "code",
   "execution_count": 50,
   "id": "a2cbf309",
   "metadata": {},
   "outputs": [
    {
     "name": "stdout",
     "output_type": "stream",
     "text": [
      "Enter the length of a set:6\n",
      "a set of alternating 1s and 0s: {0, 1}\n"
     ]
    }
   ],
   "source": [
    "n=int(input('Enter the length of a set:'))\n",
    "new_set=set(i%2 for i in range(n))\n",
    "print('a set of alternating 1s and 0s:',new_set)"
   ]
  },
  {
   "cell_type": "markdown",
   "id": "18691d44",
   "metadata": {},
   "source": [
    "50. Merge multiple sets into one."
   ]
  },
  {
   "cell_type": "code",
   "execution_count": 51,
   "id": "4a2ad767",
   "metadata": {},
   "outputs": [
    {
     "name": "stdout",
     "output_type": "stream",
     "text": [
      "The merged set: {1, 2, 3, 4, 5, 6, 7, 8, 9}\n"
     ]
    }
   ],
   "source": [
    "set1={1,2,3,4,5}\n",
    "set2={2,3,5}\n",
    "set3={4,5,6,7,8}\n",
    "set4={3,4,5,9}\n",
    "res=set1.union(set2,set3,set4)\n",
    "print('The merged set:',res)"
   ]
  }
 ],
 "metadata": {
  "kernelspec": {
   "display_name": "Python 3 (ipykernel)",
   "language": "python",
   "name": "python3"
  },
  "language_info": {
   "codemirror_mode": {
    "name": "ipython",
    "version": 3
   },
   "file_extension": ".py",
   "mimetype": "text/x-python",
   "name": "python",
   "nbconvert_exporter": "python",
   "pygments_lexer": "ipython3",
   "version": "3.9.12"
  }
 },
 "nbformat": 4,
 "nbformat_minor": 5
}
